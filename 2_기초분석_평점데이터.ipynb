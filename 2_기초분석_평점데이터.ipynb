{
  "nbformat": 4,
  "nbformat_minor": 0,
  "metadata": {
    "colab": {
      "name": "2_기초분석_평점데이터",
      "provenance": [],
      "collapsed_sections": [],
      "toc_visible": true,
      "mount_file_id": "1c9FYslQuheQ5Cen5_9z9gSIJeotdWqpe",
      "authorship_tag": "ABX9TyPNWPViRf8zKzjRfMjualfd"
    },
    "kernelspec": {
      "name": "python3",
      "display_name": "Python 3"
    }
  },
  "cells": [
    {
      "cell_type": "code",
      "metadata": {
        "id": "OgsL5UuzLiE8"
      },
      "source": [
        "import pandas as pd"
      ],
      "execution_count": null,
      "outputs": []
    },
    {
      "cell_type": "code",
      "metadata": {
        "colab": {
          "base_uri": "https://localhost:8080/",
          "height": 79
        },
        "id": "JWSuRCb6Lt6B",
        "outputId": "aa0053a1-a0d0-4b2b-fdb8-23ba22eb0006"
      },
      "source": [
        "ratings=pd.read_csv('/content/drive/MyDrive/인프런_추천시스템입문/data/ml-latest-small/ratings.csv')\n",
        "ratings.sample()"
      ],
      "execution_count": null,
      "outputs": [
        {
          "output_type": "execute_result",
          "data": {
            "text/html": [
              "<div>\n",
              "<style scoped>\n",
              "    .dataframe tbody tr th:only-of-type {\n",
              "        vertical-align: middle;\n",
              "    }\n",
              "\n",
              "    .dataframe tbody tr th {\n",
              "        vertical-align: top;\n",
              "    }\n",
              "\n",
              "    .dataframe thead th {\n",
              "        text-align: right;\n",
              "    }\n",
              "</style>\n",
              "<table border=\"1\" class=\"dataframe\">\n",
              "  <thead>\n",
              "    <tr style=\"text-align: right;\">\n",
              "      <th></th>\n",
              "      <th>userId</th>\n",
              "      <th>movieId</th>\n",
              "      <th>rating</th>\n",
              "      <th>timestamp</th>\n",
              "    </tr>\n",
              "  </thead>\n",
              "  <tbody>\n",
              "    <tr>\n",
              "      <th>43031</th>\n",
              "      <td>288</td>\n",
              "      <td>7293</td>\n",
              "      <td>3.0</td>\n",
              "      <td>1132939263</td>\n",
              "    </tr>\n",
              "  </tbody>\n",
              "</table>\n",
              "</div>"
            ],
            "text/plain": [
              "       userId  movieId  rating   timestamp\n",
              "43031     288     7293     3.0  1132939263"
            ]
          },
          "metadata": {
            "tags": []
          },
          "execution_count": 4
        }
      ]
    },
    {
      "cell_type": "code",
      "metadata": {
        "colab": {
          "base_uri": "https://localhost:8080/"
        },
        "id": "X_7TXtc3Mfuy",
        "outputId": "e8e76bba-5ad8-48ed-d512-81351524b37b"
      },
      "source": [
        "ratings.shape"
      ],
      "execution_count": null,
      "outputs": [
        {
          "output_type": "execute_result",
          "data": {
            "text/plain": [
              "(100836, 4)"
            ]
          },
          "metadata": {
            "tags": []
          },
          "execution_count": 5
        }
      ]
    },
    {
      "cell_type": "code",
      "metadata": {
        "colab": {
          "base_uri": "https://localhost:8080/"
        },
        "id": "CoMwqOYTMsv9",
        "outputId": "f3a0ef92-5101-4d93-d87f-8b66abc69958"
      },
      "source": [
        "ratings['userId'].unique()"
      ],
      "execution_count": null,
      "outputs": [
        {
          "output_type": "execute_result",
          "data": {
            "text/plain": [
              "array([  1,   2,   3,   4,   5,   6,   7,   8,   9,  10,  11,  12,  13,\n",
              "        14,  15,  16,  17,  18,  19,  20,  21,  22,  23,  24,  25,  26,\n",
              "        27,  28,  29,  30,  31,  32,  33,  34,  35,  36,  37,  38,  39,\n",
              "        40,  41,  42,  43,  44,  45,  46,  47,  48,  49,  50,  51,  52,\n",
              "        53,  54,  55,  56,  57,  58,  59,  60,  61,  62,  63,  64,  65,\n",
              "        66,  67,  68,  69,  70,  71,  72,  73,  74,  75,  76,  77,  78,\n",
              "        79,  80,  81,  82,  83,  84,  85,  86,  87,  88,  89,  90,  91,\n",
              "        92,  93,  94,  95,  96,  97,  98,  99, 100, 101, 102, 103, 104,\n",
              "       105, 106, 107, 108, 109, 110, 111, 112, 113, 114, 115, 116, 117,\n",
              "       118, 119, 120, 121, 122, 123, 124, 125, 126, 127, 128, 129, 130,\n",
              "       131, 132, 133, 134, 135, 136, 137, 138, 139, 140, 141, 142, 143,\n",
              "       144, 145, 146, 147, 148, 149, 150, 151, 152, 153, 154, 155, 156,\n",
              "       157, 158, 159, 160, 161, 162, 163, 164, 165, 166, 167, 168, 169,\n",
              "       170, 171, 172, 173, 174, 175, 176, 177, 178, 179, 180, 181, 182,\n",
              "       183, 184, 185, 186, 187, 188, 189, 190, 191, 192, 193, 194, 195,\n",
              "       196, 197, 198, 199, 200, 201, 202, 203, 204, 205, 206, 207, 208,\n",
              "       209, 210, 211, 212, 213, 214, 215, 216, 217, 218, 219, 220, 221,\n",
              "       222, 223, 224, 225, 226, 227, 228, 229, 230, 231, 232, 233, 234,\n",
              "       235, 236, 237, 238, 239, 240, 241, 242, 243, 244, 245, 246, 247,\n",
              "       248, 249, 250, 251, 252, 253, 254, 255, 256, 257, 258, 259, 260,\n",
              "       261, 262, 263, 264, 265, 266, 267, 268, 269, 270, 271, 272, 273,\n",
              "       274, 275, 276, 277, 278, 279, 280, 281, 282, 283, 284, 285, 286,\n",
              "       287, 288, 289, 290, 291, 292, 293, 294, 295, 296, 297, 298, 299,\n",
              "       300, 301, 302, 303, 304, 305, 306, 307, 308, 309, 310, 311, 312,\n",
              "       313, 314, 315, 316, 317, 318, 319, 320, 321, 322, 323, 324, 325,\n",
              "       326, 327, 328, 329, 330, 331, 332, 333, 334, 335, 336, 337, 338,\n",
              "       339, 340, 341, 342, 343, 344, 345, 346, 347, 348, 349, 350, 351,\n",
              "       352, 353, 354, 355, 356, 357, 358, 359, 360, 361, 362, 363, 364,\n",
              "       365, 366, 367, 368, 369, 370, 371, 372, 373, 374, 375, 376, 377,\n",
              "       378, 379, 380, 381, 382, 383, 384, 385, 386, 387, 388, 389, 390,\n",
              "       391, 392, 393, 394, 395, 396, 397, 398, 399, 400, 401, 402, 403,\n",
              "       404, 405, 406, 407, 408, 409, 410, 411, 412, 413, 414, 415, 416,\n",
              "       417, 418, 419, 420, 421, 422, 423, 424, 425, 426, 427, 428, 429,\n",
              "       430, 431, 432, 433, 434, 435, 436, 437, 438, 439, 440, 441, 442,\n",
              "       443, 444, 445, 446, 447, 448, 449, 450, 451, 452, 453, 454, 455,\n",
              "       456, 457, 458, 459, 460, 461, 462, 463, 464, 465, 466, 467, 468,\n",
              "       469, 470, 471, 472, 473, 474, 475, 476, 477, 478, 479, 480, 481,\n",
              "       482, 483, 484, 485, 486, 487, 488, 489, 490, 491, 492, 493, 494,\n",
              "       495, 496, 497, 498, 499, 500, 501, 502, 503, 504, 505, 506, 507,\n",
              "       508, 509, 510, 511, 512, 513, 514, 515, 516, 517, 518, 519, 520,\n",
              "       521, 522, 523, 524, 525, 526, 527, 528, 529, 530, 531, 532, 533,\n",
              "       534, 535, 536, 537, 538, 539, 540, 541, 542, 543, 544, 545, 546,\n",
              "       547, 548, 549, 550, 551, 552, 553, 554, 555, 556, 557, 558, 559,\n",
              "       560, 561, 562, 563, 564, 565, 566, 567, 568, 569, 570, 571, 572,\n",
              "       573, 574, 575, 576, 577, 578, 579, 580, 581, 582, 583, 584, 585,\n",
              "       586, 587, 588, 589, 590, 591, 592, 593, 594, 595, 596, 597, 598,\n",
              "       599, 600, 601, 602, 603, 604, 605, 606, 607, 608, 609, 610])"
            ]
          },
          "metadata": {
            "tags": []
          },
          "execution_count": 7
        }
      ]
    },
    {
      "cell_type": "code",
      "metadata": {
        "colab": {
          "base_uri": "https://localhost:8080/"
        },
        "id": "ECHiQtjqMwGo",
        "outputId": "8116e2c1-4868-41c0-d1dd-31a50dc37225"
      },
      "source": [
        "print(len(ratings['userId'].unique())) #610명의 유저 데이터"
      ],
      "execution_count": null,
      "outputs": [
        {
          "output_type": "stream",
          "text": [
            "610\n"
          ],
          "name": "stdout"
        }
      ]
    },
    {
      "cell_type": "code",
      "metadata": {
        "colab": {
          "base_uri": "https://localhost:8080/"
        },
        "id": "0oaGyh1KM2fk",
        "outputId": "5ab5ca85-c796-4931-b9eb-e64a329da32f"
      },
      "source": [
        "print(len(ratings['movieId'].unique())) #9724개의 영화 데이터"
      ],
      "execution_count": null,
      "outputs": [
        {
          "output_type": "stream",
          "text": [
            "9724\n"
          ],
          "name": "stdout"
        }
      ]
    },
    {
      "cell_type": "code",
      "metadata": {
        "colab": {
          "base_uri": "https://localhost:8080/"
        },
        "id": "JvqN3QGSM_qY",
        "outputId": "16cbb2fc-a8ec-4643-ecab-122b55ebd834"
      },
      "source": [
        "ratings['rating']"
      ],
      "execution_count": null,
      "outputs": [
        {
          "output_type": "execute_result",
          "data": {
            "text/plain": [
              "0         4.0\n",
              "1         4.0\n",
              "2         4.0\n",
              "3         5.0\n",
              "4         5.0\n",
              "         ... \n",
              "100831    4.0\n",
              "100832    5.0\n",
              "100833    5.0\n",
              "100834    5.0\n",
              "100835    3.0\n",
              "Name: rating, Length: 100836, dtype: float64"
            ]
          },
          "metadata": {
            "tags": []
          },
          "execution_count": 10
        }
      ]
    },
    {
      "cell_type": "code",
      "metadata": {
        "colab": {
          "base_uri": "https://localhost:8080/"
        },
        "id": "8qKx9dfqNDPE",
        "outputId": "6e09a9b6-b201-44fa-c706-a93baa2b5263"
      },
      "source": [
        "ratings['rating'].mean()"
      ],
      "execution_count": null,
      "outputs": [
        {
          "output_type": "execute_result",
          "data": {
            "text/plain": [
              "3.501556983616962"
            ]
          },
          "metadata": {
            "tags": []
          },
          "execution_count": 11
        }
      ]
    },
    {
      "cell_type": "code",
      "metadata": {
        "colab": {
          "base_uri": "https://localhost:8080/"
        },
        "id": "SRXHJ_8LNFfk",
        "outputId": "1c0560cf-8d6a-47dc-a4d4-0adaabd32ab3"
      },
      "source": [
        "ratings['rating'].min()"
      ],
      "execution_count": null,
      "outputs": [
        {
          "output_type": "execute_result",
          "data": {
            "text/plain": [
              "0.5"
            ]
          },
          "metadata": {
            "tags": []
          },
          "execution_count": 12
        }
      ]
    },
    {
      "cell_type": "code",
      "metadata": {
        "colab": {
          "base_uri": "https://localhost:8080/"
        },
        "id": "59pVzkfoNLGn",
        "outputId": "9519c3c0-3f8c-40cd-a961-5989a9a795c1"
      },
      "source": [
        "ratings['rating'].max()"
      ],
      "execution_count": null,
      "outputs": [
        {
          "output_type": "execute_result",
          "data": {
            "text/plain": [
              "5.0"
            ]
          },
          "metadata": {
            "tags": []
          },
          "execution_count": 13
        }
      ]
    },
    {
      "cell_type": "code",
      "metadata": {
        "colab": {
          "base_uri": "https://localhost:8080/"
        },
        "id": "7-oEjVy-NMOs",
        "outputId": "28b8e642-6999-482d-fd76-995f7de83576"
      },
      "source": [
        "ratings['rating'].describe()"
      ],
      "execution_count": null,
      "outputs": [
        {
          "output_type": "execute_result",
          "data": {
            "text/plain": [
              "count    100836.000000\n",
              "mean          3.501557\n",
              "std           1.042529\n",
              "min           0.500000\n",
              "25%           3.000000\n",
              "50%           3.500000\n",
              "75%           4.000000\n",
              "max           5.000000\n",
              "Name: rating, dtype: float64"
            ]
          },
          "metadata": {
            "tags": []
          },
          "execution_count": 14
        }
      ]
    },
    {
      "cell_type": "code",
      "metadata": {
        "colab": {
          "base_uri": "https://localhost:8080/",
          "height": 284
        },
        "id": "-1xmt_HZNPS3",
        "outputId": "4ddd94f4-89d0-480c-f3af-0e71537dabc9"
      },
      "source": [
        "ratings['rating'].hist()\n",
        "#안 나오면 %matplotlib inline"
      ],
      "execution_count": null,
      "outputs": [
        {
          "output_type": "execute_result",
          "data": {
            "text/plain": [
              "<matplotlib.axes._subplots.AxesSubplot at 0x7f63d2ec8588>"
            ]
          },
          "metadata": {
            "tags": []
          },
          "execution_count": 15
        },
        {
          "output_type": "display_data",
          "data": {
            "image/png": "[encoded data removed]",
            "text/plain": [
              "<Figure size 432x288 with 1 Axes>"
            ]
          },
          "metadata": {
            "tags": [],
            "needs_background": "light"
          }
        }
      ]
    },
    {
      "cell_type": "markdown",
      "metadata": {
        "id": "g81v5fONNvfl"
      },
      "source": [
        "# 사람들은 평균적으로 몇 개의 영화에 대해서 rating을 남겼는가?"
      ]
    },
    {
      "cell_type": "code",
      "metadata": {
        "colab": {
          "base_uri": "https://localhost:8080/"
        },
        "id": "OF71GSgyN1lM",
        "outputId": "fa907996-2356-4317-ea6e-459082d5f595"
      },
      "source": [
        "ratings.groupby('userId')['movieId'].count()"
      ],
      "execution_count": null,
      "outputs": [
        {
          "output_type": "execute_result",
          "data": {
            "text/plain": [
              "userId\n",
              "1       232\n",
              "2        29\n",
              "3        39\n",
              "4       216\n",
              "5        44\n",
              "       ... \n",
              "606    1115\n",
              "607     187\n",
              "608     831\n",
              "609      37\n",
              "610    1302\n",
              "Name: movieId, Length: 610, dtype: int64"
            ]
          },
          "metadata": {
            "tags": []
          },
          "execution_count": 16
        }
      ]
    },
    {
      "cell_type": "code",
      "metadata": {
        "colab": {
          "base_uri": "https://localhost:8080/"
        },
        "id": "O8NoWsb0OBG2",
        "outputId": "31f3018e-04b5-434d-f153-d01f613df386"
      },
      "source": [
        "users=ratings.groupby('userId')['movieId'].count()\n",
        "users[:5]"
      ],
      "execution_count": null,
      "outputs": [
        {
          "output_type": "execute_result",
          "data": {
            "text/plain": [
              "userId\n",
              "1    232\n",
              "2     29\n",
              "3     39\n",
              "4    216\n",
              "5     44\n",
              "Name: movieId, dtype: int64"
            ]
          },
          "metadata": {
            "tags": []
          },
          "execution_count": 18
        }
      ]
    },
    {
      "cell_type": "code",
      "metadata": {
        "colab": {
          "base_uri": "https://localhost:8080/"
        },
        "id": "hISExplLOD1d",
        "outputId": "656c6cd0-73e3-4665-e04e-443437586ec7"
      },
      "source": [
        "users.describe()"
      ],
      "execution_count": null,
      "outputs": [
        {
          "output_type": "execute_result",
          "data": {
            "text/plain": [
              "count     610.000000\n",
              "mean      165.304918\n",
              "std       269.480584\n",
              "min        20.000000\n",
              "25%        35.000000\n",
              "50%        70.500000\n",
              "75%       168.000000\n",
              "max      2698.000000\n",
              "Name: movieId, dtype: float64"
            ]
          },
          "metadata": {
            "tags": []
          },
          "execution_count": 19
        }
      ]
    },
    {
      "cell_type": "code",
      "metadata": {
        "id": "ihb6XGIYOIjV"
      },
      "source": [
        "import seaborn as sns"
      ],
      "execution_count": null,
      "outputs": []
    },
    {
      "cell_type": "code",
      "metadata": {
        "colab": {
          "base_uri": "https://localhost:8080/"
        },
        "id": "6ItfUy4HOOmu",
        "outputId": "2624246c-2209-4c42-f229-c4fa3ff3fa60"
      },
      "source": [
        "users.values #어떤 사람이 몇 개의 영화를 봤는가"
      ],
      "execution_count": null,
      "outputs": [
        {
          "output_type": "execute_result",
          "data": {
            "text/plain": [
              "array([ 232,   29,   39,  216,   44,  314,  152,   47,   46,  140,   64,\n",
              "         32,   31,   48,  135,   98,  105,  502,  703,  242,  443,  119,\n",
              "        121,  110,   26,   21,  135,  570,   81,   34,   50,  102,  156,\n",
              "         86,   23,   60,   21,   78,  100,  103,  217,  440,  114,   48,\n",
              "        399,   42,  140,   33,   21,  310,  359,  130,   20,   33,   25,\n",
              "         46,  476,  112,  107,   22,   39,  366,  271,  517,   34,  345,\n",
              "         36, 1260,   46,   62,   35,   45,  210,  177,   69,  119,   29,\n",
              "         61,   64,  167,   26,  227,  118,  293,   34,   70,   21,   56,\n",
              "        518,   54,  575,   24,   97,   56,  168,   78,   36,   92,   53,\n",
              "        148,   61,   56,  377,  273,  722,   33,   34,   76,  127,   51,\n",
              "        646,   65,  150,   31,  112,   87,  165,   22,  215,   22,   58,\n",
              "        292,   56,   50,  360,   38,   22,   33,  140,   28,   69,  347,\n",
              "         35,   35,  279,  111,  141,   22,  194,  608,  168,   38,   71,\n",
              "        128,   23,   32,   20,   48,   58,   26,   59,   63,  179,   34,\n",
              "         46,  398,   21,   26,   97,  437,   39,   38,   23,   36,   65,\n",
              "        190,  173,   94,  269,   50,   82,   26,   25,   67,   24,   36,\n",
              "        904,   77,   69,   24,  118,  977,   57,  134,   47,  226,  258,\n",
              "         48,   20,   66,   85,   22,   35,   20,  187,   32,   35,  230,\n",
              "        363,  334,  110,  403,   45,   83,   27,   25,   20,   26,   35,\n",
              "        138,   89,  248,   84,   22,   98,  164,  613,   26,  528,  207,\n",
              "        331,  250,   75,   54,   75,  507,   94,   25,   65,  139,   24,\n",
              "        862,  150,  202,   65,   30,   50,   44,  279,  128,   76,   35,\n",
              "         36,   93,   21,  204,  150,   51, 1046,   27,   23,   38,   47,\n",
              "        127,   44,  174,   20,   25,   29,  152,   53,   57,  210,   56,\n",
              "        163,  180,   57,  129,   29,   40,   43,   31,   55, 1346,  403,\n",
              "         41,   28,   20,  176,  196,   21,  237,   35,   88,   36,  106,\n",
              "        152, 1055,   24,  267,   31,  446,   21,  437,   41,   27,   72,\n",
              "        939,   23,   32,  114,   32,   53,  216,  677,  112,  975,  115,\n",
              "        103,   64,   28,  223,  340,  128,   33,   53,  189,  879,   35,\n",
              "         20,   56,  107,   98,   21,  270,  152,   48,  255,   23,  247,\n",
              "        168,  267,   25,  154,   28,   56,   77,   39,  371,   28,   52,\n",
              "         66,   59,   69,   62,  164,   45,   55,   37,   40,  141,  294,\n",
              "         90,  226,   26,  289,  383,   41,   74,   25,   97,  109,   30,\n",
              "         21,  277,   31,  185,  469,  129,   93,   41,  236,  100,   33,\n",
              "         33,  133,  131,   48,   36, 1218,  474,  291,   34,   70,  201,\n",
              "         68, 1027,   29,   34,   81,  386,   25,  123,   23,   61,   28,\n",
              "         23,   46,   36,   43,   72,   48,   34,   60,  120,   20,   22,\n",
              "        141,  126,  167,  127,  102,   56, 2698,   94,   51,   67,   93,\n",
              "        155,  141,   37,   93,   23,  138,  306,   88,   84,  300,   58,\n",
              "         58,   20,  260,   22,  233,   42,  106,  122,  635,   21,   33,\n",
              "         45,   20,   37,   42,   77,   84,   78, 1864,   38,   51,   34,\n",
              "        202,  311,   45,   57,   43,   50,   59,   26,   82,   27,  455,\n",
              "         33,  138,  115,  113,   22,   33,  465,   80,   28,   29,   37,\n",
              "       2108,  155,   69,  600,   22,  181,  836,   31,  128,  728,  275,\n",
              "         23,   56,   56,  111,  648,  113,   64,  121,   61,   22,  265,\n",
              "         29,   51,   35,   27,   86,   45,   35,   95,   87,   31,   42,\n",
              "         21,   24,  467,  108,   52,   50,   32,  397,   26,   26,  400,\n",
              "         24,   26,  186,   40,  200,   75,  131,  500,   58,  167,   73,\n",
              "         25,   27,   22,   50,   38,  520,   30,   40,   47,   37,   38,\n",
              "         42,   87,  113,   76,   22,   23,   64,   21,   26,   21,   28,\n",
              "        123,  188,   83,   89,  578,   32,   27,   56,  140,  458,  505,\n",
              "        231,  213,  157,   29,   74,  385,   23,   20,  191,  112,  155,\n",
              "        299,   23,   36,   20,  161,   27,   73,  436,   40,   56,   56,\n",
              "         83,   61,  208,  165,   56,   40,  728,   54,   94,  103,  232,\n",
              "         20,  411,  443,   21, 2478,  763,  101,  135,  943,  100,  221,\n",
              "       1115,  187,  831,   37, 1302])"
            ]
          },
          "metadata": {
            "tags": []
          },
          "execution_count": 22
        }
      ]
    },
    {
      "cell_type": "code",
      "metadata": {
        "colab": {
          "base_uri": "https://localhost:8080/",
          "height": 341
        },
        "id": "YSGFoGdCOQjZ",
        "outputId": "b9930422-d4d7-432f-d14f-420917880ec4"
      },
      "source": [
        "sns.distplot(users.values)\n",
        "#power law distribution(멱함수 분포)"
      ],
      "execution_count": null,
      "outputs": [
        {
          "output_type": "stream",
          "text": [
            "/usr/local/lib/python3.6/dist-packages/seaborn/distributions.py:2551: FutureWarning: `distplot` is a deprecated function and will be removed in a future version. Please adapt your code to use either `displot` (a figure-level function with similar flexibility) or `histplot` (an axes-level function for histograms).\n",
            "  warnings.warn(msg, FutureWarning)\n"
          ],
          "name": "stderr"
        },
        {
          "output_type": "execute_result",
          "data": {
            "text/plain": [
              "<matplotlib.axes._subplots.AxesSubplot at 0x7f63c895fda0>"
            ]
          },
          "metadata": {
            "tags": []
          },
          "execution_count": 23
        },
        {
          "output_type": "display_data",
          "data": {
            "image/png": "[encoded data removed]",
            "text/plain": [
              "<Figure size 432x288 with 1 Axes>"
            ]
          },
          "metadata": {
            "tags": [],
            "needs_background": "light"
          }
        }
      ]
    },
    {
      "cell_type": "markdown",
      "metadata": {
        "id": "j2TQ5BmQPBmW"
      },
      "source": [
        "# 사람들이 많이 보는 영화는?"
      ]
    },
    {
      "cell_type": "code",
      "metadata": {
        "colab": {
          "base_uri": "https://localhost:8080/"
        },
        "id": "rOYrjVJdPEC7",
        "outputId": "55d5fc16-8634-44d6-e661-5f331eba9334"
      },
      "source": [
        "ratings.groupby('movieId')['userId'].count()"
      ],
      "execution_count": null,
      "outputs": [
        {
          "output_type": "execute_result",
          "data": {
            "text/plain": [
              "movieId\n",
              "1         215\n",
              "2         110\n",
              "3          52\n",
              "4           7\n",
              "5          49\n",
              "         ... \n",
              "193581      1\n",
              "193583      1\n",
              "193585      1\n",
              "193587      1\n",
              "193609      1\n",
              "Name: userId, Length: 9724, dtype: int64"
            ]
          },
          "metadata": {
            "tags": []
          },
          "execution_count": 24
        }
      ]
    },
    {
      "cell_type": "code",
      "metadata": {
        "colab": {
          "base_uri": "https://localhost:8080/"
        },
        "id": "Z7mStEqMPPh0",
        "outputId": "2f79bdf6-5d01-4fc4-ad64-7a721639d43b"
      },
      "source": [
        "films=ratings.groupby('movieId')['userId'].count()\n",
        "films[:5]"
      ],
      "execution_count": null,
      "outputs": [
        {
          "output_type": "execute_result",
          "data": {
            "text/plain": [
              "movieId\n",
              "1    215\n",
              "2    110\n",
              "3     52\n",
              "4      7\n",
              "5     49\n",
              "Name: userId, dtype: int64"
            ]
          },
          "metadata": {
            "tags": []
          },
          "execution_count": 25
        }
      ]
    },
    {
      "cell_type": "code",
      "metadata": {
        "colab": {
          "base_uri": "https://localhost:8080/"
        },
        "id": "PgU9F1lTPUBB",
        "outputId": "34ee55a0-7859-4ee2-eb6b-3ba75c71497e"
      },
      "source": [
        "films.describe()"
      ],
      "execution_count": null,
      "outputs": [
        {
          "output_type": "execute_result",
          "data": {
            "text/plain": [
              "count    9724.000000\n",
              "mean       10.369807\n",
              "std        22.401005\n",
              "min         1.000000\n",
              "25%         1.000000\n",
              "50%         3.000000\n",
              "75%         9.000000\n",
              "max       329.000000\n",
              "Name: userId, dtype: float64"
            ]
          },
          "metadata": {
            "tags": []
          },
          "execution_count": 26
        }
      ]
    },
    {
      "cell_type": "code",
      "metadata": {
        "colab": {
          "base_uri": "https://localhost:8080/",
          "height": 341
        },
        "id": "FEKgq7tEPXOO",
        "outputId": "dc965e91-949d-44ce-c792-9f5ae182de7c"
      },
      "source": [
        "sns.distplot(films.values)"
      ],
      "execution_count": null,
      "outputs": [
        {
          "output_type": "stream",
          "text": [
            "/usr/local/lib/python3.6/dist-packages/seaborn/distributions.py:2551: FutureWarning: `distplot` is a deprecated function and will be removed in a future version. Please adapt your code to use either `displot` (a figure-level function with similar flexibility) or `histplot` (an axes-level function for histograms).\n",
            "  warnings.warn(msg, FutureWarning)\n"
          ],
          "name": "stderr"
        },
        {
          "output_type": "execute_result",
          "data": {
            "text/plain": [
              "<matplotlib.axes._subplots.AxesSubplot at 0x7f63c8768d30>"
            ]
          },
          "metadata": {
            "tags": []
          },
          "execution_count": 27
        },
        {
          "output_type": "display_data",
          "data": {
            "image/png": "[encoded data removed]",
            "text/plain": [
              "<Figure size 432x288 with 1 Axes>"
            ]
          },
          "metadata": {
            "tags": [],
            "needs_background": "light"
          }
        }
      ]
    },
    {
      "cell_type": "code",
      "metadata": {
        "colab": {
          "base_uri": "https://localhost:8080/"
        },
        "id": "Oif1UrChPc4b",
        "outputId": "49b67fc2-5751-4cae-84af-2c7af413898b"
      },
      "source": [
        "films.sort_values(ascending=False)[:5]"
      ],
      "execution_count": null,
      "outputs": [
        {
          "output_type": "execute_result",
          "data": {
            "text/plain": [
              "movieId\n",
              "356     329\n",
              "318     317\n",
              "296     307\n",
              "593     279\n",
              "2571    278\n",
              "Name: userId, dtype: int64"
            ]
          },
          "metadata": {
            "tags": []
          },
          "execution_count": 29
        }
      ]
    },
    {
      "cell_type": "code",
      "metadata": {
        "id": "5zv98L65PseD"
      },
      "source": [
        "movies=pd.read_csv('/content/drive/MyDrive/인프런_추천시스템입문/data/ml-latest-small/movies.csv', index_col='movieId')"
      ],
      "execution_count": null,
      "outputs": []
    },
    {
      "cell_type": "code",
      "metadata": {
        "colab": {
          "base_uri": "https://localhost:8080/",
          "height": 446
        },
        "id": "a3x9W5WiP6V6",
        "outputId": "5c7f2a50-f8ea-4ebb-ef40-c4f6f035e28e"
      },
      "source": [
        "movies"
      ],
      "execution_count": null,
      "outputs": [
        {
          "output_type": "execute_result",
          "data": {
            "text/html": [
              "<div>\n",
              "<style scoped>\n",
              "    .dataframe tbody tr th:only-of-type {\n",
              "        vertical-align: middle;\n",
              "    }\n",
              "\n",
              "    .dataframe tbody tr th {\n",
              "        vertical-align: top;\n",
              "    }\n",
              "\n",
              "    .dataframe thead th {\n",
              "        text-align: right;\n",
              "    }\n",
              "</style>\n",
              "<table border=\"1\" class=\"dataframe\">\n",
              "  <thead>\n",
              "    <tr style=\"text-align: right;\">\n",
              "      <th></th>\n",
              "      <th>title</th>\n",
              "      <th>genres</th>\n",
              "    </tr>\n",
              "    <tr>\n",
              "      <th>movieId</th>\n",
              "      <th></th>\n",
              "      <th></th>\n",
              "    </tr>\n",
              "  </thead>\n",
              "  <tbody>\n",
              "    <tr>\n",
              "      <th>1</th>\n",
              "      <td>Toy Story (1995)</td>\n",
              "      <td>Adventure|Animation|Children|Comedy|Fantasy</td>\n",
              "    </tr>\n",
              "    <tr>\n",
              "      <th>2</th>\n",
              "      <td>Jumanji (1995)</td>\n",
              "      <td>Adventure|Children|Fantasy</td>\n",
              "    </tr>\n",
              "    <tr>\n",
              "      <th>3</th>\n",
              "      <td>Grumpier Old Men (1995)</td>\n",
              "      <td>Comedy|Romance</td>\n",
              "    </tr>\n",
              "    <tr>\n",
              "      <th>4</th>\n",
              "      <td>Waiting to Exhale (1995)</td>\n",
              "      <td>Comedy|Drama|Romance</td>\n",
              "    </tr>\n",
              "    <tr>\n",
              "      <th>5</th>\n",
              "      <td>Father of the Bride Part II (1995)</td>\n",
              "      <td>Comedy</td>\n",
              "    </tr>\n",
              "    <tr>\n",
              "      <th>...</th>\n",
              "      <td>...</td>\n",
              "      <td>...</td>\n",
              "    </tr>\n",
              "    <tr>\n",
              "      <th>193581</th>\n",
              "      <td>Black Butler: Book of the Atlantic (2017)</td>\n",
              "      <td>Action|Animation|Comedy|Fantasy</td>\n",
              "    </tr>\n",
              "    <tr>\n",
              "      <th>193583</th>\n",
              "      <td>No Game No Life: Zero (2017)</td>\n",
              "      <td>Animation|Comedy|Fantasy</td>\n",
              "    </tr>\n",
              "    <tr>\n",
              "      <th>193585</th>\n",
              "      <td>Flint (2017)</td>\n",
              "      <td>Drama</td>\n",
              "    </tr>\n",
              "    <tr>\n",
              "      <th>193587</th>\n",
              "      <td>Bungo Stray Dogs: Dead Apple (2018)</td>\n",
              "      <td>Action|Animation</td>\n",
              "    </tr>\n",
              "    <tr>\n",
              "      <th>193609</th>\n",
              "      <td>Andrew Dice Clay: Dice Rules (1991)</td>\n",
              "      <td>Comedy</td>\n",
              "    </tr>\n",
              "  </tbody>\n",
              "</table>\n",
              "<p>9742 rows × 2 columns</p>\n",
              "</div>"
            ],
            "text/plain": [
              "                                             title                                       genres\n",
              "movieId                                                                                        \n",
              "1                                 Toy Story (1995)  Adventure|Animation|Children|Comedy|Fantasy\n",
              "2                                   Jumanji (1995)                   Adventure|Children|Fantasy\n",
              "3                          Grumpier Old Men (1995)                               Comedy|Romance\n",
              "4                         Waiting to Exhale (1995)                         Comedy|Drama|Romance\n",
              "5               Father of the Bride Part II (1995)                                       Comedy\n",
              "...                                            ...                                          ...\n",
              "193581   Black Butler: Book of the Atlantic (2017)              Action|Animation|Comedy|Fantasy\n",
              "193583                No Game No Life: Zero (2017)                     Animation|Comedy|Fantasy\n",
              "193585                                Flint (2017)                                        Drama\n",
              "193587         Bungo Stray Dogs: Dead Apple (2018)                             Action|Animation\n",
              "193609         Andrew Dice Clay: Dice Rules (1991)                                       Comedy\n",
              "\n",
              "[9742 rows x 2 columns]"
            ]
          },
          "metadata": {
            "tags": []
          },
          "execution_count": 32
        }
      ]
    },
    {
      "cell_type": "code",
      "metadata": {
        "colab": {
          "base_uri": "https://localhost:8080/"
        },
        "id": "NnEU6U7GP_Vw",
        "outputId": "5ce186ad-4019-4e91-a089-f2ed5cd4768a"
      },
      "source": [
        "movies.loc[356]"
      ],
      "execution_count": null,
      "outputs": [
        {
          "output_type": "execute_result",
          "data": {
            "text/plain": [
              "title          Forrest Gump (1994)\n",
              "genres    Comedy|Drama|Romance|War\n",
              "Name: 356, dtype: object"
            ]
          },
          "metadata": {
            "tags": []
          },
          "execution_count": 33
        }
      ]
    },
    {
      "cell_type": "code",
      "metadata": {
        "colab": {
          "base_uri": "https://localhost:8080/",
          "height": 233
        },
        "id": "MxvCgo3uQCZE",
        "outputId": "99aea1f6-0b52-4751-f2cc-c018d2452853"
      },
      "source": [
        "#movies.loc(index, column)\n",
        "movies.loc[[356, 318, 296, 593, 2571]]"
      ],
      "execution_count": null,
      "outputs": [
        {
          "output_type": "execute_result",
          "data": {
            "text/html": [
              "<div>\n",
              "<style scoped>\n",
              "    .dataframe tbody tr th:only-of-type {\n",
              "        vertical-align: middle;\n",
              "    }\n",
              "\n",
              "    .dataframe tbody tr th {\n",
              "        vertical-align: top;\n",
              "    }\n",
              "\n",
              "    .dataframe thead th {\n",
              "        text-align: right;\n",
              "    }\n",
              "</style>\n",
              "<table border=\"1\" class=\"dataframe\">\n",
              "  <thead>\n",
              "    <tr style=\"text-align: right;\">\n",
              "      <th></th>\n",
              "      <th>title</th>\n",
              "      <th>genres</th>\n",
              "    </tr>\n",
              "    <tr>\n",
              "      <th>movieId</th>\n",
              "      <th></th>\n",
              "      <th></th>\n",
              "    </tr>\n",
              "  </thead>\n",
              "  <tbody>\n",
              "    <tr>\n",
              "      <th>356</th>\n",
              "      <td>Forrest Gump (1994)</td>\n",
              "      <td>Comedy|Drama|Romance|War</td>\n",
              "    </tr>\n",
              "    <tr>\n",
              "      <th>318</th>\n",
              "      <td>Shawshank Redemption, The (1994)</td>\n",
              "      <td>Crime|Drama</td>\n",
              "    </tr>\n",
              "    <tr>\n",
              "      <th>296</th>\n",
              "      <td>Pulp Fiction (1994)</td>\n",
              "      <td>Comedy|Crime|Drama|Thriller</td>\n",
              "    </tr>\n",
              "    <tr>\n",
              "      <th>593</th>\n",
              "      <td>Silence of the Lambs, The (1991)</td>\n",
              "      <td>Crime|Horror|Thriller</td>\n",
              "    </tr>\n",
              "    <tr>\n",
              "      <th>2571</th>\n",
              "      <td>Matrix, The (1999)</td>\n",
              "      <td>Action|Sci-Fi|Thriller</td>\n",
              "    </tr>\n",
              "  </tbody>\n",
              "</table>\n",
              "</div>"
            ],
            "text/plain": [
              "                                    title                       genres\n",
              "movieId                                                               \n",
              "356                   Forrest Gump (1994)     Comedy|Drama|Romance|War\n",
              "318      Shawshank Redemption, The (1994)                  Crime|Drama\n",
              "296                   Pulp Fiction (1994)  Comedy|Crime|Drama|Thriller\n",
              "593      Silence of the Lambs, The (1991)        Crime|Horror|Thriller\n",
              "2571                   Matrix, The (1999)       Action|Sci-Fi|Thriller"
            ]
          },
          "metadata": {
            "tags": []
          },
          "execution_count": 34
        }
      ]
    },
    {
      "cell_type": "markdown",
      "metadata": {
        "id": "6K1DUYk5Qa_I"
      },
      "source": [
        "# 겨울왕국 평점 보기"
      ]
    },
    {
      "cell_type": "code",
      "metadata": {
        "colab": {
          "base_uri": "https://localhost:8080/"
        },
        "id": "kMScG2A0QdxD",
        "outputId": "8d1c0a50-09d9-4f78-d42c-5933014b8fac"
      },
      "source": [
        "#겨울왕국은 movieId=106696\n",
        "movies.loc[106696]"
      ],
      "execution_count": null,
      "outputs": [
        {
          "output_type": "execute_result",
          "data": {
            "text/plain": [
              "title                                         Frozen (2013)\n",
              "genres    Adventure|Animation|Comedy|Fantasy|Musical|Rom...\n",
              "Name: 106696, dtype: object"
            ]
          },
          "metadata": {
            "tags": []
          },
          "execution_count": 36
        }
      ]
    },
    {
      "cell_type": "code",
      "metadata": {
        "colab": {
          "base_uri": "https://localhost:8080/"
        },
        "id": "Pf7iE0blQqaj",
        "outputId": "04e9de87-0125-48a2-9480-b3ae8bc85207"
      },
      "source": [
        "ratings['movieId']==106696"
      ],
      "execution_count": null,
      "outputs": [
        {
          "output_type": "execute_result",
          "data": {
            "text/plain": [
              "0         False\n",
              "1         False\n",
              "2         False\n",
              "3         False\n",
              "4         False\n",
              "          ...  \n",
              "100831    False\n",
              "100832    False\n",
              "100833    False\n",
              "100834    False\n",
              "100835    False\n",
              "Name: movieId, Length: 100836, dtype: bool"
            ]
          },
          "metadata": {
            "tags": []
          },
          "execution_count": 37
        }
      ]
    },
    {
      "cell_type": "code",
      "metadata": {
        "id": "p256I71_Qzhm"
      },
      "source": [
        "frozen=ratings[ratings['movieId']==106696]"
      ],
      "execution_count": null,
      "outputs": []
    },
    {
      "cell_type": "code",
      "metadata": {
        "colab": {
          "base_uri": "https://localhost:8080/"
        },
        "id": "rHEvXPmsQ382",
        "outputId": "583c6cfc-4090-42cb-b7eb-6b0aaa7ebfd1"
      },
      "source": [
        "len(frozen)"
      ],
      "execution_count": null,
      "outputs": [
        {
          "output_type": "execute_result",
          "data": {
            "text/plain": [
              "29"
            ]
          },
          "metadata": {
            "tags": []
          },
          "execution_count": 40
        }
      ]
    },
    {
      "cell_type": "code",
      "metadata": {
        "colab": {
          "base_uri": "https://localhost:8080/",
          "height": 284
        },
        "id": "NIQNyfkTQ64y",
        "outputId": "e068cf58-b392-4112-a666-f09ca002cfe5"
      },
      "source": [
        "frozen['rating'].hist()"
      ],
      "execution_count": null,
      "outputs": [
        {
          "output_type": "execute_result",
          "data": {
            "text/plain": [
              "<matplotlib.axes._subplots.AxesSubplot at 0x7f63c6f5f198>"
            ]
          },
          "metadata": {
            "tags": []
          },
          "execution_count": 41
        },
        {
          "output_type": "display_data",
          "data": {
            "image/png": "[encoded data removed]",
            "text/plain": [
              "<Figure size 432x288 with 1 Axes>"
            ]
          },
          "metadata": {
            "tags": [],
            "needs_background": "light"
          }
        }
      ]
    },
    {
      "cell_type": "code",
      "metadata": {
        "colab": {
          "base_uri": "https://localhost:8080/",
          "height": 938
        },
        "id": "-8kxmKJTQ-V8",
        "outputId": "b0fc88ae-7e57-4335-e9e0-24e304a5f5c6"
      },
      "source": [
        "frozen\n",
        "#567번은 겨울왕국이 싫어서 0.5점을 준 것인가? 아니면 원래 모든 영화들에 점수를 짜게 주는가?"
      ],
      "execution_count": null,
      "outputs": [
        {
          "output_type": "execute_result",
          "data": {
            "text/html": [
              "<div>\n",
              "<style scoped>\n",
              "    .dataframe tbody tr th:only-of-type {\n",
              "        vertical-align: middle;\n",
              "    }\n",
              "\n",
              "    .dataframe tbody tr th {\n",
              "        vertical-align: top;\n",
              "    }\n",
              "\n",
              "    .dataframe thead th {\n",
              "        text-align: right;\n",
              "    }\n",
              "</style>\n",
              "<table border=\"1\" class=\"dataframe\">\n",
              "  <thead>\n",
              "    <tr style=\"text-align: right;\">\n",
              "      <th></th>\n",
              "      <th>userId</th>\n",
              "      <th>movieId</th>\n",
              "      <th>rating</th>\n",
              "      <th>timestamp</th>\n",
              "    </tr>\n",
              "  </thead>\n",
              "  <tbody>\n",
              "    <tr>\n",
              "      <th>1245</th>\n",
              "      <td>10</td>\n",
              "      <td>106696</td>\n",
              "      <td>4.5</td>\n",
              "      <td>1455306204</td>\n",
              "    </tr>\n",
              "    <tr>\n",
              "      <th>3572</th>\n",
              "      <td>21</td>\n",
              "      <td>106696</td>\n",
              "      <td>4.0</td>\n",
              "      <td>1403460685</td>\n",
              "    </tr>\n",
              "    <tr>\n",
              "      <th>9418</th>\n",
              "      <td>63</td>\n",
              "      <td>106696</td>\n",
              "      <td>5.0</td>\n",
              "      <td>1443461176</td>\n",
              "    </tr>\n",
              "    <tr>\n",
              "      <th>16798</th>\n",
              "      <td>105</td>\n",
              "      <td>106696</td>\n",
              "      <td>3.5</td>\n",
              "      <td>1447563589</td>\n",
              "    </tr>\n",
              "    <tr>\n",
              "      <th>21852</th>\n",
              "      <td>141</td>\n",
              "      <td>106696</td>\n",
              "      <td>3.0</td>\n",
              "      <td>1513129988</td>\n",
              "    </tr>\n",
              "    <tr>\n",
              "      <th>21967</th>\n",
              "      <td>143</td>\n",
              "      <td>106696</td>\n",
              "      <td>4.0</td>\n",
              "      <td>1444768621</td>\n",
              "    </tr>\n",
              "    <tr>\n",
              "      <th>22567</th>\n",
              "      <td>153</td>\n",
              "      <td>106696</td>\n",
              "      <td>2.5</td>\n",
              "      <td>1525552648</td>\n",
              "    </tr>\n",
              "    <tr>\n",
              "      <th>23219</th>\n",
              "      <td>159</td>\n",
              "      <td>106696</td>\n",
              "      <td>3.0</td>\n",
              "      <td>1508640298</td>\n",
              "    </tr>\n",
              "    <tr>\n",
              "      <th>25783</th>\n",
              "      <td>177</td>\n",
              "      <td>106696</td>\n",
              "      <td>5.0</td>\n",
              "      <td>1435529765</td>\n",
              "    </tr>\n",
              "    <tr>\n",
              "      <th>35769</th>\n",
              "      <td>241</td>\n",
              "      <td>106696</td>\n",
              "      <td>4.0</td>\n",
              "      <td>1447540037</td>\n",
              "    </tr>\n",
              "    <tr>\n",
              "      <th>37282</th>\n",
              "      <td>249</td>\n",
              "      <td>106696</td>\n",
              "      <td>3.5</td>\n",
              "      <td>1396222978</td>\n",
              "    </tr>\n",
              "    <tr>\n",
              "      <th>37490</th>\n",
              "      <td>252</td>\n",
              "      <td>106696</td>\n",
              "      <td>4.5</td>\n",
              "      <td>1498284778</td>\n",
              "    </tr>\n",
              "    <tr>\n",
              "      <th>43914</th>\n",
              "      <td>292</td>\n",
              "      <td>106696</td>\n",
              "      <td>4.0</td>\n",
              "      <td>1421974328</td>\n",
              "    </tr>\n",
              "    <tr>\n",
              "      <th>46526</th>\n",
              "      <td>305</td>\n",
              "      <td>106696</td>\n",
              "      <td>4.0</td>\n",
              "      <td>1460303575</td>\n",
              "    </tr>\n",
              "    <tr>\n",
              "      <th>46686</th>\n",
              "      <td>306</td>\n",
              "      <td>106696</td>\n",
              "      <td>4.0</td>\n",
              "      <td>1518380586</td>\n",
              "    </tr>\n",
              "    <tr>\n",
              "      <th>49886</th>\n",
              "      <td>319</td>\n",
              "      <td>106696</td>\n",
              "      <td>4.5</td>\n",
              "      <td>1461351802</td>\n",
              "    </tr>\n",
              "    <tr>\n",
              "      <th>51345</th>\n",
              "      <td>331</td>\n",
              "      <td>106696</td>\n",
              "      <td>3.5</td>\n",
              "      <td>1537158456</td>\n",
              "    </tr>\n",
              "    <tr>\n",
              "      <th>53458</th>\n",
              "      <td>352</td>\n",
              "      <td>106696</td>\n",
              "      <td>2.0</td>\n",
              "      <td>1493674468</td>\n",
              "    </tr>\n",
              "    <tr>\n",
              "      <th>58821</th>\n",
              "      <td>382</td>\n",
              "      <td>106696</td>\n",
              "      <td>3.5</td>\n",
              "      <td>1515161464</td>\n",
              "    </tr>\n",
              "    <tr>\n",
              "      <th>77938</th>\n",
              "      <td>483</td>\n",
              "      <td>106696</td>\n",
              "      <td>4.0</td>\n",
              "      <td>1415575259</td>\n",
              "    </tr>\n",
              "    <tr>\n",
              "      <th>79732</th>\n",
              "      <td>495</td>\n",
              "      <td>106696</td>\n",
              "      <td>5.0</td>\n",
              "      <td>1458635883</td>\n",
              "    </tr>\n",
              "    <tr>\n",
              "      <th>80811</th>\n",
              "      <td>509</td>\n",
              "      <td>106696</td>\n",
              "      <td>4.5</td>\n",
              "      <td>1444255616</td>\n",
              "    </tr>\n",
              "    <tr>\n",
              "      <th>81910</th>\n",
              "      <td>517</td>\n",
              "      <td>106696</td>\n",
              "      <td>1.0</td>\n",
              "      <td>1487955739</td>\n",
              "    </tr>\n",
              "    <tr>\n",
              "      <th>83064</th>\n",
              "      <td>525</td>\n",
              "      <td>106696</td>\n",
              "      <td>3.5</td>\n",
              "      <td>1476476140</td>\n",
              "    </tr>\n",
              "    <tr>\n",
              "      <th>84033</th>\n",
              "      <td>534</td>\n",
              "      <td>106696</td>\n",
              "      <td>3.0</td>\n",
              "      <td>1459787998</td>\n",
              "    </tr>\n",
              "    <tr>\n",
              "      <th>88023</th>\n",
              "      <td>567</td>\n",
              "      <td>106696</td>\n",
              "      <td>0.5</td>\n",
              "      <td>1525289874</td>\n",
              "    </tr>\n",
              "    <tr>\n",
              "      <th>89900</th>\n",
              "      <td>583</td>\n",
              "      <td>106696</td>\n",
              "      <td>3.0</td>\n",
              "      <td>1481474420</td>\n",
              "    </tr>\n",
              "    <tr>\n",
              "      <th>90206</th>\n",
              "      <td>586</td>\n",
              "      <td>106696</td>\n",
              "      <td>5.0</td>\n",
              "      <td>1529899352</td>\n",
              "    </tr>\n",
              "    <tr>\n",
              "      <th>92080</th>\n",
              "      <td>596</td>\n",
              "      <td>106696</td>\n",
              "      <td>3.5</td>\n",
              "      <td>1535827238</td>\n",
              "    </tr>\n",
              "  </tbody>\n",
              "</table>\n",
              "</div>"
            ],
            "text/plain": [
              "       userId  movieId  rating   timestamp\n",
              "1245       10   106696     4.5  1455306204\n",
              "3572       21   106696     4.0  1403460685\n",
              "9418       63   106696     5.0  1443461176\n",
              "16798     105   106696     3.5  1447563589\n",
              "21852     141   106696     3.0  1513129988\n",
              "21967     143   106696     4.0  1444768621\n",
              "22567     153   106696     2.5  1525552648\n",
              "23219     159   106696     3.0  1508640298\n",
              "25783     177   106696     5.0  1435529765\n",
              "35769     241   106696     4.0  1447540037\n",
              "37282     249   106696     3.5  1396222978\n",
              "37490     252   106696     4.5  1498284778\n",
              "43914     292   106696     4.0  1421974328\n",
              "46526     305   106696     4.0  1460303575\n",
              "46686     306   106696     4.0  1518380586\n",
              "49886     319   106696     4.5  1461351802\n",
              "51345     331   106696     3.5  1537158456\n",
              "53458     352   106696     2.0  1493674468\n",
              "58821     382   106696     3.5  1515161464\n",
              "77938     483   106696     4.0  1415575259\n",
              "79732     495   106696     5.0  1458635883\n",
              "80811     509   106696     4.5  1444255616\n",
              "81910     517   106696     1.0  1487955739\n",
              "83064     525   106696     3.5  1476476140\n",
              "84033     534   106696     3.0  1459787998\n",
              "88023     567   106696     0.5  1525289874\n",
              "89900     583   106696     3.0  1481474420\n",
              "90206     586   106696     5.0  1529899352\n",
              "92080     596   106696     3.5  1535827238"
            ]
          },
          "metadata": {
            "tags": []
          },
          "execution_count": 42
        }
      ]
    },
    {
      "cell_type": "code",
      "metadata": {
        "colab": {
          "base_uri": "https://localhost:8080/",
          "height": 415
        },
        "id": "8WFdI9MARG5S",
        "outputId": "e463f008-9420-463a-f5fd-1d5b2e635dbd"
      },
      "source": [
        "ratings[ratings['userId']==567]"
      ],
      "execution_count": null,
      "outputs": [
        {
          "output_type": "execute_result",
          "data": {
            "text/html": [
              "<div>\n",
              "<style scoped>\n",
              "    .dataframe tbody tr th:only-of-type {\n",
              "        vertical-align: middle;\n",
              "    }\n",
              "\n",
              "    .dataframe tbody tr th {\n",
              "        vertical-align: top;\n",
              "    }\n",
              "\n",
              "    .dataframe thead th {\n",
              "        text-align: right;\n",
              "    }\n",
              "</style>\n",
              "<table border=\"1\" class=\"dataframe\">\n",
              "  <thead>\n",
              "    <tr style=\"text-align: right;\">\n",
              "      <th></th>\n",
              "      <th>userId</th>\n",
              "      <th>movieId</th>\n",
              "      <th>rating</th>\n",
              "      <th>timestamp</th>\n",
              "    </tr>\n",
              "  </thead>\n",
              "  <tbody>\n",
              "    <tr>\n",
              "      <th>87791</th>\n",
              "      <td>567</td>\n",
              "      <td>1</td>\n",
              "      <td>3.5</td>\n",
              "      <td>1525286001</td>\n",
              "    </tr>\n",
              "    <tr>\n",
              "      <th>87792</th>\n",
              "      <td>567</td>\n",
              "      <td>34</td>\n",
              "      <td>2.5</td>\n",
              "      <td>1525288053</td>\n",
              "    </tr>\n",
              "    <tr>\n",
              "      <th>87793</th>\n",
              "      <td>567</td>\n",
              "      <td>50</td>\n",
              "      <td>1.0</td>\n",
              "      <td>1525282012</td>\n",
              "    </tr>\n",
              "    <tr>\n",
              "      <th>87794</th>\n",
              "      <td>567</td>\n",
              "      <td>101</td>\n",
              "      <td>3.0</td>\n",
              "      <td>1525287210</td>\n",
              "    </tr>\n",
              "    <tr>\n",
              "      <th>87795</th>\n",
              "      <td>567</td>\n",
              "      <td>260</td>\n",
              "      <td>2.0</td>\n",
              "      <td>1525288368</td>\n",
              "    </tr>\n",
              "    <tr>\n",
              "      <th>...</th>\n",
              "      <td>...</td>\n",
              "      <td>...</td>\n",
              "      <td>...</td>\n",
              "      <td>...</td>\n",
              "    </tr>\n",
              "    <tr>\n",
              "      <th>88171</th>\n",
              "      <td>567</td>\n",
              "      <td>180031</td>\n",
              "      <td>4.0</td>\n",
              "      <td>1525284143</td>\n",
              "    </tr>\n",
              "    <tr>\n",
              "      <th>88172</th>\n",
              "      <td>567</td>\n",
              "      <td>180985</td>\n",
              "      <td>1.0</td>\n",
              "      <td>1525285297</td>\n",
              "    </tr>\n",
              "    <tr>\n",
              "      <th>88173</th>\n",
              "      <td>567</td>\n",
              "      <td>182823</td>\n",
              "      <td>1.0</td>\n",
              "      <td>1525289422</td>\n",
              "    </tr>\n",
              "    <tr>\n",
              "      <th>88174</th>\n",
              "      <td>567</td>\n",
              "      <td>183897</td>\n",
              "      <td>3.5</td>\n",
              "      <td>1525282061</td>\n",
              "    </tr>\n",
              "    <tr>\n",
              "      <th>88175</th>\n",
              "      <td>567</td>\n",
              "      <td>184253</td>\n",
              "      <td>0.5</td>\n",
              "      <td>1525289944</td>\n",
              "    </tr>\n",
              "  </tbody>\n",
              "</table>\n",
              "<p>385 rows × 4 columns</p>\n",
              "</div>"
            ],
            "text/plain": [
              "       userId  movieId  rating   timestamp\n",
              "87791     567        1     3.5  1525286001\n",
              "87792     567       34     2.5  1525288053\n",
              "87793     567       50     1.0  1525282012\n",
              "87794     567      101     3.0  1525287210\n",
              "87795     567      260     2.0  1525288368\n",
              "...       ...      ...     ...         ...\n",
              "88171     567   180031     4.0  1525284143\n",
              "88172     567   180985     1.0  1525285297\n",
              "88173     567   182823     1.0  1525289422\n",
              "88174     567   183897     3.5  1525282061\n",
              "88175     567   184253     0.5  1525289944\n",
              "\n",
              "[385 rows x 4 columns]"
            ]
          },
          "metadata": {
            "tags": []
          },
          "execution_count": 45
        }
      ]
    },
    {
      "cell_type": "code",
      "metadata": {
        "colab": {
          "base_uri": "https://localhost:8080/",
          "height": 284
        },
        "id": "r20fIDoORbZI",
        "outputId": "cdb6b884-2f49-4c97-b790-3a282b9d6d83"
      },
      "source": [
        "ratings.loc[ratings['userId']==567, 'rating'].hist()\n",
        "#전반적으로 낮은 점수를 많이 주는 사람임"
      ],
      "execution_count": null,
      "outputs": [
        {
          "output_type": "execute_result",
          "data": {
            "text/plain": [
              "<matplotlib.axes._subplots.AxesSubplot at 0x7f63c6cc8e10>"
            ]
          },
          "metadata": {
            "tags": []
          },
          "execution_count": 47
        },
        {
          "output_type": "display_data",
          "data": {
            "image/png": "[encoded data removed]",
            "text/plain": [
              "<Figure size 432x288 with 1 Axes>"
            ]
          },
          "metadata": {
            "tags": [],
            "needs_background": "light"
          }
        }
      ]
    },
    {
      "cell_type": "code",
      "metadata": {
        "colab": {
          "base_uri": "https://localhost:8080/",
          "height": 284
        },
        "id": "QM_ZbIgyR0V4",
        "outputId": "d1347e71-86b7-4c54-91aa-4fa199501557"
      },
      "source": [
        "ratings['rating'].hist()"
      ],
      "execution_count": null,
      "outputs": [
        {
          "output_type": "execute_result",
          "data": {
            "text/plain": [
              "<matplotlib.axes._subplots.AxesSubplot at 0x7f63c6bf6860>"
            ]
          },
          "metadata": {
            "tags": []
          },
          "execution_count": 48
        },
        {
          "output_type": "display_data",
          "data": {
            "image/png": "[encoded data removed]",
            "text/plain": [
              "<Figure size 432x288 with 1 Axes>"
            ]
          },
          "metadata": {
            "tags": [],
            "needs_background": "light"
          }
        }
      ]
    },
    {
      "cell_type": "markdown",
      "metadata": {
        "id": "pryxsmBiTTvt"
      },
      "source": [
        "# timestamp 컬럼 처리"
      ]
    },
    {
      "cell_type": "code",
      "metadata": {
        "id": "fWgo8DUJTXPW"
      },
      "source": [
        "from datetime import datetime"
      ],
      "execution_count": null,
      "outputs": []
    },
    {
      "cell_type": "code",
      "metadata": {
        "colab": {
          "base_uri": "https://localhost:8080/"
        },
        "id": "iJIueKtgTvUc",
        "outputId": "2db28267-bcee-4db2-af1f-300a3b4c25dd"
      },
      "source": [
        "datetime.fromtimestamp(1537158105)"
      ],
      "execution_count": null,
      "outputs": [
        {
          "output_type": "execute_result",
          "data": {
            "text/plain": [
              "datetime.datetime(2018, 9, 17, 4, 21, 45)"
            ]
          },
          "metadata": {
            "tags": []
          },
          "execution_count": 53
        }
      ]
    },
    {
      "cell_type": "code",
      "metadata": {
        "colab": {
          "base_uri": "https://localhost:8080/"
        },
        "id": "qIh3tjulTfJV",
        "outputId": "9f73d7e6-3a1f-4ed6-94a2-2854f2bfd420"
      },
      "source": [
        "ratings['timestamp'].apply(lambda x: datetime.fromtimestamp(x))"
      ],
      "execution_count": null,
      "outputs": [
        {
          "output_type": "execute_result",
          "data": {
            "text/plain": [
              "0        2000-07-30 18:45:03\n",
              "1        2000-07-30 18:20:47\n",
              "2        2000-07-30 18:37:04\n",
              "3        2000-07-30 19:03:35\n",
              "4        2000-07-30 18:48:51\n",
              "                 ...        \n",
              "100831   2017-05-03 21:53:22\n",
              "100832   2017-05-03 22:21:31\n",
              "100833   2017-05-08 19:50:47\n",
              "100834   2017-05-03 21:19:12\n",
              "100835   2017-05-03 21:20:15\n",
              "Name: timestamp, Length: 100836, dtype: datetime64[ns]"
            ]
          },
          "metadata": {
            "tags": []
          },
          "execution_count": 52
        }
      ]
    },
    {
      "cell_type": "code",
      "metadata": {
        "colab": {
          "base_uri": "https://localhost:8080/",
          "height": 79
        },
        "id": "dCxmlBXlTrM4",
        "outputId": "102bd80d-3f93-4562-b12c-b64756a378b8"
      },
      "source": [
        "ratings.sample()"
      ],
      "execution_count": null,
      "outputs": [
        {
          "output_type": "execute_result",
          "data": {
            "text/html": [
              "<div>\n",
              "<style scoped>\n",
              "    .dataframe tbody tr th:only-of-type {\n",
              "        vertical-align: middle;\n",
              "    }\n",
              "\n",
              "    .dataframe tbody tr th {\n",
              "        vertical-align: top;\n",
              "    }\n",
              "\n",
              "    .dataframe thead th {\n",
              "        text-align: right;\n",
              "    }\n",
              "</style>\n",
              "<table border=\"1\" class=\"dataframe\">\n",
              "  <thead>\n",
              "    <tr style=\"text-align: right;\">\n",
              "      <th></th>\n",
              "      <th>userId</th>\n",
              "      <th>movieId</th>\n",
              "      <th>rating</th>\n",
              "      <th>timestamp</th>\n",
              "    </tr>\n",
              "  </thead>\n",
              "  <tbody>\n",
              "    <tr>\n",
              "      <th>61174</th>\n",
              "      <td>400</td>\n",
              "      <td>1210</td>\n",
              "      <td>5.0</td>\n",
              "      <td>1498870163</td>\n",
              "    </tr>\n",
              "  </tbody>\n",
              "</table>\n",
              "</div>"
            ],
            "text/plain": [
              "       userId  movieId  rating   timestamp\n",
              "61174     400     1210     5.0  1498870163"
            ]
          },
          "metadata": {
            "tags": []
          },
          "execution_count": 55
        }
      ]
    },
    {
      "cell_type": "markdown",
      "metadata": {
        "id": "kb41GpwPVgRU"
      },
      "source": [
        "# 내 데이터 붙이기"
      ]
    },
    {
      "cell_type": "code",
      "metadata": {
        "id": "Ih4D8RfYViec"
      },
      "source": [
        ""
      ],
      "execution_count": null,
      "outputs": []
    }
  ]
}
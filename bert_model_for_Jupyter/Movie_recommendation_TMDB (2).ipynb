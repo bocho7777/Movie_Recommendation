{
  "nbformat": 4,
  "nbformat_minor": 0,
  "metadata": {
    "colab": {
      "name": "Movie_recommendation_TMDB",
      "provenance": [],
      "machine_shape": "hm"
    },
    "kernelspec": {
      "name": "python3",
      "display_name": "Python 3"
    },
    "accelerator": "GPU"
  },
  "cells": [
    {
      "cell_type": "code",
      "metadata": {
        "id": "8qcxYLOzj_mK"
      },
      "source": [
        "# Movie_recommendation_BERT \n",
        " \n",
        "#0) read_data from google drive\n",
        "\n",
        "#1) TMDN_Dataset\n",
        " #1.1) get genres & overview from movies\n",
        " #1.2) tokenize data using BERT_Tokenizer\n",
        " #1.3) make input_form : [CLS] + genres + [SEP] + overview + [SEP]\n",
        " #1.4) make input be tensor\n",
        "\n",
        " #1.5) normalize label(make mean 1)\n",
        "  #1.5.1) popularity\n",
        "  #1.5.2) vote_average\n",
        "  #1.5.3) vote_count\n",
        " #1.6) make input_target : popularity + vote_average * vote_count\n",
        "\n",
        "#2) TMDM_Model\n",
        " #2.1) using Bert_base model\n",
        " #2.2) get last_hidden_states\n",
        " #2.3) get apool & mpool\n",
        "\n",
        "#3) TMDM_Loss\n",
        " #3.1) using BCE_Loss\n",
        "\n",
        "#4) TMDM_Train\n",
        "\n",
        "#5) TMDM_Fit\n",
        "\n",
        "#6) TMDM_embedding_matrix\n",
        " #6.1) get embedding_matrix that has information about movies\n",
        "\n",
        "#7) TMDM_Recommendation\n",
        " #7.1) get_recommendation_function\n",
        " #7.2) get_embedding_function\n",
        "  #7.2.1) prepare dataset & position_data\n",
        "  #7.2.2) get_embedding : word_embedding + token_type_embedding + position_embedding "
      ],
      "execution_count": 1,
      "outputs": []
    },
    {
      "cell_type": "code",
      "metadata": {
        "id": "KVFEXSsYjjvU",
        "colab": {
          "base_uri": "https://localhost:8080/"
        },
        "outputId": "4e076180-3c8f-418f-8f90-373fb6b5df08"
      },
      "source": [
        "from google.colab import drive\n",
        "drive.mount(\"/content/gdrive\", force_remount = True)\n",
        "!pip install transformers"
      ],
      "execution_count": 2,
      "outputs": [
        {
          "output_type": "stream",
          "text": [
            "Mounted at /content/gdrive\n",
            "Collecting transformers\n",
            "\u001b[?25l  Downloading https://files.pythonhosted.org/packages/99/84/7bc03215279f603125d844bf81c3fb3f2d50fe8e511546eb4897e4be2067/transformers-4.0.0-py3-none-any.whl (1.4MB)\n",
            "\u001b[K     |████████████████████████████████| 1.4MB 6.8MB/s \n",
            "\u001b[?25hRequirement already satisfied: numpy in /usr/local/lib/python3.6/dist-packages (from transformers) (1.18.5)\n",
            "Collecting tokenizers==0.9.4\n",
            "\u001b[?25l  Downloading https://files.pythonhosted.org/packages/0f/1c/e789a8b12e28be5bc1ce2156cf87cb522b379be9cadc7ad8091a4cc107c4/tokenizers-0.9.4-cp36-cp36m-manylinux2010_x86_64.whl (2.9MB)\n",
            "\u001b[K     |████████████████████████████████| 2.9MB 29.6MB/s \n",
            "\u001b[?25hRequirement already satisfied: filelock in /usr/local/lib/python3.6/dist-packages (from transformers) (3.0.12)\n",
            "Requirement already satisfied: tqdm>=4.27 in /usr/local/lib/python3.6/dist-packages (from transformers) (4.41.1)\n",
            "Requirement already satisfied: dataclasses; python_version < \"3.7\" in /usr/local/lib/python3.6/dist-packages (from transformers) (0.8)\n",
            "Requirement already satisfied: packaging in /usr/local/lib/python3.6/dist-packages (from transformers) (20.4)\n",
            "Requirement already satisfied: requests in /usr/local/lib/python3.6/dist-packages (from transformers) (2.23.0)\n",
            "Requirement already satisfied: regex!=2019.12.17 in /usr/local/lib/python3.6/dist-packages (from transformers) (2019.12.20)\n",
            "Collecting sacremoses\n",
            "\u001b[?25l  Downloading https://files.pythonhosted.org/packages/7d/34/09d19aff26edcc8eb2a01bed8e98f13a1537005d31e95233fd48216eed10/sacremoses-0.0.43.tar.gz (883kB)\n",
            "\u001b[K     |████████████████████████████████| 890kB 38.1MB/s \n",
            "\u001b[?25hRequirement already satisfied: pyparsing>=2.0.2 in /usr/local/lib/python3.6/dist-packages (from packaging->transformers) (2.4.7)\n",
            "Requirement already satisfied: six in /usr/local/lib/python3.6/dist-packages (from packaging->transformers) (1.15.0)\n",
            "Requirement already satisfied: urllib3!=1.25.0,!=1.25.1,<1.26,>=1.21.1 in /usr/local/lib/python3.6/dist-packages (from requests->transformers) (1.24.3)\n",
            "Requirement already satisfied: chardet<4,>=3.0.2 in /usr/local/lib/python3.6/dist-packages (from requests->transformers) (3.0.4)\n",
            "Requirement already satisfied: idna<3,>=2.5 in /usr/local/lib/python3.6/dist-packages (from requests->transformers) (2.10)\n",
            "Requirement already satisfied: certifi>=2017.4.17 in /usr/local/lib/python3.6/dist-packages (from requests->transformers) (2020.11.8)\n",
            "Requirement already satisfied: click in /usr/local/lib/python3.6/dist-packages (from sacremoses->transformers) (7.1.2)\n",
            "Requirement already satisfied: joblib in /usr/local/lib/python3.6/dist-packages (from sacremoses->transformers) (0.17.0)\n",
            "Building wheels for collected packages: sacremoses\n",
            "  Building wheel for sacremoses (setup.py) ... \u001b[?25l\u001b[?25hdone\n",
            "  Created wheel for sacremoses: filename=sacremoses-0.0.43-cp36-none-any.whl size=893257 sha256=46ebfe1b1bb068546a311595a39016c9dbb50c40d74ca6fce6715be18fe39004\n",
            "  Stored in directory: /root/.cache/pip/wheels/29/3c/fd/7ce5c3f0666dab31a50123635e6fb5e19ceb42ce38d4e58f45\n",
            "Successfully built sacremoses\n",
            "Installing collected packages: tokenizers, sacremoses, transformers\n",
            "Successfully installed sacremoses-0.0.43 tokenizers-0.9.4 transformers-4.0.0\n"
          ],
          "name": "stdout"
        }
      ]
    },
    {
      "cell_type": "code",
      "metadata": {
        "id": "P5LMP_mWkWTx"
      },
      "source": [
        "#0) read_data from google drive\n",
        "\n",
        "import pandas as pd\n",
        "\n",
        "movies = pd.read_csv('/content/gdrive/My Drive/tmdb_5000_movies.csv')\n",
        "#movies = movies.drop(2656).reset_index(drop = True)\n",
        "#movies = movies.drop(4139).reset_index(drop = True)\n",
        "#movies = movies.drop(4339).reset_index(drop = True)\n",
        "#movies = movies.drop(4398).reset_index(drop = True)\n",
        "#movies = movies.drop(4427).reset_index(drop = True)\n",
        "title = []\n",
        "for i in range(len(movies)):\n",
        "  title.append(movies['title'][i])\n",
        "\n",
        "action_movies = []\n",
        "for j in range(len(movies)):\n",
        "  if 'Action' in movies['genres'][j]:\n",
        "    action_movies.append(j)\n",
        "\n",
        "fantasy_movies = []\n",
        "for j in range(len(movies)):\n",
        "  if 'Fantasy' in movies['genres'][j]:\n",
        "    fantasy_movies.append(j)\n",
        "\n",
        "comedy_movies = []\n",
        "for j in range(len(movies)):\n",
        "  if 'Comedy' in movies['genres'][j]:\n",
        "    comedy_movies.append(j)\n",
        "\n",
        "horror_movies = []\n",
        "for j in range(len(movies)):\n",
        "  if 'Horror' in movies['genres'][j]:\n",
        "    horror_movies.append(j)\n",
        "\n",
        "romance_movies = []\n",
        "for j in range(len(movies)):\n",
        "  if 'Romance' in movies['genres'][j]:\n",
        "    romance_movies.append(j)"
      ],
      "execution_count": 3,
      "outputs": []
    },
    {
      "cell_type": "code",
      "metadata": {
        "id": "Vp5ueWpgkpSP"
      },
      "source": [
        "#1) TMDN_Dataset\n",
        " #1.1) get genres & overview from movies\n",
        " #1.2) tokenize data using BERT_Tokenizer\n",
        " #1.3) make input_form : [CLS] + genres + [SEP] + overview + tagline + [SEP]\n",
        " #1.4) make token_type_ids\n",
        " #1.5) make attention_mask\n",
        " #1.6) make input be tensor\n",
        "  #1.6.1) input_ids\n",
        "  #1.6.2) token_type_ids\n",
        "  #1.6.3) attention_mask\n",
        " #1.7) normalize label(make mean 1)\n",
        "  #1.7.1) popularity\n",
        "  #1.7.2) vote_average\n",
        "  #1.7.3) vote_count\n",
        "  #1.7.4) revenue\n",
        " #1.8) make input_target : popularity + vote_average * vote_count\n",
        "\n",
        "device = 'cuda'\n",
        "\n",
        "import math\n",
        "import torch\n",
        "import numpy as np\n",
        "from transformers import BertTokenizer, BertModel, BertConfig\n",
        "\n",
        "BERT_Tokenizer = BertTokenizer.from_pretrained('bert-base-uncased', do_lower_case=True)\n",
        "\n",
        "class TMDM_Dataset(torch.utils.data.Dataset):\n",
        "  def __init__(self, movie_data, max_len, tokenizer):\n",
        "    self.movie_data = movie_data\n",
        "    self.max_len = max_len\n",
        "    self.tokenizer = tokenizer\n",
        "    self.encoded_cls = self.tokenizer.convert_tokens_to_ids('[CLS]')\n",
        "    self.encoded_sep = self.tokenizer.convert_tokens_to_ids('[SEP]')\n",
        "    self.encoded_pad = self.tokenizer.convert_tokens_to_ids('[PAD]')\n",
        "    self.popularity_mean = 21.49230058817409\n",
        "    self.vote_average_mean = 6.092171559442011\n",
        "    self.vote_count_mean = 690.2179887570269\n",
        "    self.target_threshold = 0.95\n",
        "\n",
        "  def __len__(self):\n",
        "    return len(self.movie_data)\n",
        "\n",
        "  def __getitem__(self, index):\n",
        "\n",
        "    #1.1) get genres & overview from movies\n",
        "    # genres\n",
        "    genres = self.movie_data.loc[index]['genres']\n",
        "    if genres == '[]':\n",
        "      genres = '[{\"id\": -1, \"name\": \"None\"}]'\n",
        "    genres = self.get_genres(genres)\n",
        "    genres = ' '.join(genres)\n",
        "    \n",
        "    # overview\n",
        "    overview = self.movie_data.loc[index]['overview']\n",
        "\n",
        "    # tagline\n",
        "    tagline = self.movie_data.loc[index]['tagline']\n",
        "\n",
        "\n",
        "    #1.2) tokenize data using BERT_Tokenizer\n",
        "    # genres_token & genres_encoded\n",
        "    if self.check_null(genres) == True:\n",
        "      genres = 'None'\n",
        "    genres = genres.lower()\n",
        "    genres_token = self.tokenizer.tokenize(genres)\n",
        "    genres_encoded = self.tokenizer.encode(genres_token)[1:-1]\n",
        "\n",
        "    # overview_token & overview_encoded\n",
        "    if self.check_null(overview) == True or len(overview) == 1:\n",
        "      overview = 'None'\n",
        "    overview = overview.lower()\n",
        "    overview_token = self.tokenizer.tokenize(overview)\n",
        "    overview_encoded = self.tokenizer.encode(overview_token)[1:-1]\n",
        "\n",
        "    # tagline_token & tagline_encoded\n",
        "    if self.check_null(tagline) == True:\n",
        "      tagline = 'None'\n",
        "    tagline = tagline.lower()\n",
        "    tagline_token = self.tokenizer.tokenize(tagline)\n",
        "    tagline_encoded = self.tokenizer.encode(tagline_token)[1:-1]\n",
        "\n",
        "    # content_encoded = overview_encoded + tagline_encoded\n",
        "    content_encoded = overview_encoded + tagline_encoded\n",
        "\n",
        "    #1.3) make input_form : [CLS] + genres + [SEP] + content + [SEP]\n",
        "    if len(genres_encoded) + len(content_encoded) >= (self.max_len - 3):\n",
        "      content_encoded = content_encoded[:(self.max_len - 3 - len(genres_encoded))]\n",
        "       \n",
        "    input_ids = [self.encoded_cls] + genres_encoded + [self.encoded_sep] + \\\n",
        "    content_encoded + [self.encoded_sep]\n",
        "    \n",
        "    #1.4) make token_type_ids\n",
        "    sent1_length = len(genres_encoded)\n",
        "    sent2_length = len(content_encoded)\n",
        "    token_type_ids = [0] * (sent1_length + 2) + [1] * (sent2_length + 1)\n",
        "\n",
        "\n",
        "    #1.5) make attention_mask\n",
        "    attention_mask = [1] * len(input_ids)\n",
        "\n",
        "    #1.6) padding input to max_len & make tensor form\n",
        "    # input_ids\n",
        "    padding_length = self.max_len - len(input_ids)\n",
        "    input_ids = self.padding(input_ids, self.encoded_pad, padding_length)\n",
        "    input_ids = torch.tensor(input_ids)\n",
        "    input_ids = input_ids.long()\n",
        "    input_ids = input_ids.to(device)\n",
        "\n",
        "    # token_type_ids\n",
        "    token_type_ids = self.padding(token_type_ids, self.encoded_pad, padding_length)\n",
        "    token_type_ids = torch.Tensor(token_type_ids)\n",
        "    token_type_ids = token_type_ids.long()\n",
        "    token_type_ids = token_type_ids.to(device)\n",
        "\n",
        "    # attention_mask\n",
        "    attention_mask = self.padding(attention_mask, self.encoded_pad, padding_length)\n",
        "    attention_mask = torch.Tensor(attention_mask)\n",
        "    attention_mask = attention_mask.long()\n",
        "    attention_mask = attention_mask.to(device)\n",
        "\n",
        "\n",
        "    #1.7) normalize label(make mean 1)\n",
        "    #1.7.1) popularity\n",
        "    popularity = self.movie_data.loc[index]['popularity']\n",
        "    popularity = np.divide(popularity, self.popularity_mean)\n",
        "    \n",
        "    #1.7.2) vote_average\n",
        "    vote_average = self.movie_data.loc[index]['vote_average']\n",
        "    vote_average = np.divide(vote_average, self.vote_average_mean)\n",
        "\n",
        "    #1.7.3) vote_count\n",
        "    vote_count = self.movie_data.loc[index]['vote_count']\n",
        "    vote_count = np.divide(vote_count, self.vote_count_mean)\n",
        "\n",
        "\n",
        "    #1.8) make input_target : popularity + vote_average * vote_count\n",
        "    input_target = popularity + vote_average * vote_count\n",
        "    if input_target >= self.target_threshold:\n",
        "      input_target = torch.Tensor([1])\n",
        "    else:\n",
        "      input_target = torch.Tensor([0])\n",
        "    input_target = input_target.to(device)\n",
        "\n",
        "\n",
        "    # dictionary\n",
        "    dictionary = {}\n",
        "\n",
        "    dictionary['input_ids'] = input_ids\n",
        "    dictionary['token_type_ids'] = token_type_ids\n",
        "    dictionary['attention_mask'] = attention_mask\n",
        "    dictionary['input_target'] = input_target\n",
        "\n",
        "    return dictionary\n",
        "    \n",
        "  def get_genres(self, data):\n",
        "    genres = []\n",
        "    for i in range(len(data)):\n",
        "      if data[i] == ':' and data[i + 1] == ' ' and data[i + 2] == '\"':\n",
        "        j = i + 3\n",
        "        while data[j] != '\"':\n",
        "          genres.append(data[j])\n",
        "          j = j + 1\n",
        "        genres.append('/')\n",
        " \n",
        "    genres = ''.join(genres)\n",
        "    genres = genres.split('/')[:-1]\n",
        "    return genres\n",
        "\n",
        "  def padding(self, input, value, length):\n",
        "    return input + [value] * length\n",
        "\n",
        "  def check_null(self, input):\n",
        "    if isinstance(input, str) == True:\n",
        "      boolean = pd.isnull(input)\n",
        "  \n",
        "    elif isinstance(input, float) == True:\n",
        "      boolean = math.isnan(input)\n",
        "\n",
        "    return boolean"
      ],
      "execution_count": 28,
      "outputs": []
    },
    {
      "cell_type": "code",
      "metadata": {
        "colab": {
          "base_uri": "https://localhost:8080/"
        },
        "id": "o8binsV36-t1",
        "outputId": "8aa179b0-bf67-43dc-e9dc-a0f7ee585b43"
      },
      "source": [
        "data = TMDM_Dataset(movies, 100, BERT_Tokenizer)[5]\n",
        "data"
      ],
      "execution_count": 29,
      "outputs": [
        {
          "output_type": "execute_result",
          "data": {
            "text/plain": [
              "{'attention_mask': tensor([1, 1, 1, 1, 1, 1, 1, 1, 1, 1, 1, 1, 1, 1, 1, 1, 1, 1, 1, 1, 1, 1, 1, 1,\n",
              "         1, 1, 1, 1, 1, 1, 1, 1, 1, 1, 1, 1, 1, 1, 1, 1, 1, 1, 1, 1, 1, 1, 1, 1,\n",
              "         1, 1, 1, 1, 1, 1, 1, 1, 1, 1, 1, 1, 1, 1, 1, 1, 1, 1, 1, 1, 1, 1, 1, 1,\n",
              "         1, 0, 0, 0, 0, 0, 0, 0, 0, 0, 0, 0, 0, 0, 0, 0, 0, 0, 0, 0, 0, 0, 0, 0,\n",
              "         0, 0, 0, 0], device='cuda:0'),\n",
              " 'input_ids': tensor([  101,  5913,  2895,  6172,   102,  1996,  9428, 25018,  6804,  1011,\n",
              "          2158,  3632,  2039,  2114,  2019,  2035,  1011,  2047, 10416,  1997,\n",
              "         12700,  1516,  2164,  1996,  4338,  1011,  9564,  5472,  2386,  1012,\n",
              "          2096,  6804,  1011,  2158,  1521,  1055,  3565, 11452,  2015,  2024,\n",
              "          8776,  2011,  2019,  7344, 15923,  1010,  2010, 11477, 13059,  1010,\n",
              "          2848,  6262,  1010,  9144,  2007, 21363,  5752, 13899,  1998,  2036,\n",
              "          4152,  3236,  2039,  1999,  1037,  2293,  9546,  1012,  1996,  2645,\n",
              "          2306,  1012,   102,     0,     0,     0,     0,     0,     0,     0,\n",
              "             0,     0,     0,     0,     0,     0,     0,     0,     0,     0,\n",
              "             0,     0,     0,     0,     0,     0,     0,     0,     0,     0],\n",
              "        device='cuda:0'),\n",
              " 'input_target': tensor([1.], device='cuda:0'),\n",
              " 'token_type_ids': tensor([0, 0, 0, 0, 0, 1, 1, 1, 1, 1, 1, 1, 1, 1, 1, 1, 1, 1, 1, 1, 1, 1, 1, 1,\n",
              "         1, 1, 1, 1, 1, 1, 1, 1, 1, 1, 1, 1, 1, 1, 1, 1, 1, 1, 1, 1, 1, 1, 1, 1,\n",
              "         1, 1, 1, 1, 1, 1, 1, 1, 1, 1, 1, 1, 1, 1, 1, 1, 1, 1, 1, 1, 1, 1, 1, 1,\n",
              "         1, 0, 0, 0, 0, 0, 0, 0, 0, 0, 0, 0, 0, 0, 0, 0, 0, 0, 0, 0, 0, 0, 0, 0,\n",
              "         0, 0, 0, 0], device='cuda:0')}"
            ]
          },
          "metadata": {
            "tags": []
          },
          "execution_count": 29
        }
      ]
    },
    {
      "cell_type": "code",
      "metadata": {
        "id": "n71R4VYk-b5u"
      },
      "source": [
        "#2) TMDM_Dataloader\n",
        "\n",
        "from torch.utils.data import DataLoader\n",
        "\n",
        "loader_dataset = TMDM_Dataset(movie_data = movies, \n",
        "                              max_len = 100,\n",
        "                              tokenizer = BERT_Tokenizer)\n",
        "\n",
        "train_dataloader = DataLoader(loader_dataset, \n",
        "                             batch_size = 16, \n",
        "                             shuffle = True, \n",
        "                             drop_last = True)"
      ],
      "execution_count": 30,
      "outputs": []
    },
    {
      "cell_type": "code",
      "metadata": {
        "id": "APeGE0X3vU6P"
      },
      "source": [
        "#2) TMDM_Model\n",
        " #2.1) using Bert_base model\n",
        " #2.2) get last_hidden_states\n",
        " #2.3) get apool & mpool\n",
        "\n",
        "import torch.nn as nn\n",
        "\n",
        "BERT_Model = BertModel.from_pretrained('bert-base-uncased')\n",
        "\n",
        "class recommendation_model(nn.Module):\n",
        "  def __init__(self):\n",
        "    super(recommendation_model, self).__init__()\n",
        "    self.model = BERT_Model\n",
        "    self.hidden = 768 * 2\n",
        "    self.out = 1\n",
        "    self.linear = nn.Linear(self.hidden, self.out)\n",
        "    self.dropout = nn.Dropout(0.7)\n",
        "    self.activation = nn.Sigmoid()\n",
        "\n",
        "  def forward(self, input_ids, token_type_ids, attention_mask):\n",
        "    \n",
        "    #2.2) get last_hidden_states\n",
        "    output = self.model(input_ids, token_type_ids, attention_mask)\n",
        "    last_hidden = output[0]\n",
        "\n",
        "    #2.3) get apool & mpool\n",
        "    apool = torch.mean(last_hidden, dim = 1)\n",
        "    mpool, _ = torch.max(last_hidden, dim = 1)\n",
        "    concat = torch.cat((apool, mpool), dim = 1)\n",
        "\n",
        "    logit = self.dropout(concat)\n",
        "    logit = self.linear(logit)\n",
        "    logit = self.activation(logit)\n",
        "\n",
        "    return logit\n",
        "\n",
        "  def get_cls(self, input_ids, token_type_ids, attention_mask):\n",
        "\n",
        "    #2.4) get cls from trained model\n",
        "    output = self.model(input_ids, token_type_ids, attention_mask)\n",
        "    last_hidden = output[0]\n",
        "    cls_data = last_hidden[:, 0, :]\n",
        "    return cls_data\n",
        "\n",
        "TMDM_Model = recommendation_model().to(device) "
      ],
      "execution_count": 68,
      "outputs": []
    },
    {
      "cell_type": "code",
      "metadata": {
        "colab": {
          "base_uri": "https://localhost:8080/"
        },
        "id": "qKGVSyE17L_4",
        "outputId": "1c9f956c-0d4e-4cad-b239-c4089235046b"
      },
      "source": [
        "TMDM_Model(data['input_ids'].unsqueeze(0), \n",
        "           data['token_type_ids'].unsqueeze(0), \n",
        "           data['attention_mask'].unsqueeze(0))"
      ],
      "execution_count": 32,
      "outputs": [
        {
          "output_type": "execute_result",
          "data": {
            "text/plain": [
              "tensor([[0.6090]], device='cuda:0', grad_fn=<SigmoidBackward>)"
            ]
          },
          "metadata": {
            "tags": []
          },
          "execution_count": 32
        }
      ]
    },
    {
      "cell_type": "code",
      "metadata": {
        "id": "VaQmFNSF9Szi"
      },
      "source": [
        "#3) TMDM_Loss\n",
        " #3.1) using BCE_Loss\n",
        "\n",
        "def TMDM_Loss(logit, target):\n",
        "  loss_function = nn.BCELoss()\n",
        "  loss = loss_function(logit, target)\n",
        "\n",
        "  return loss"
      ],
      "execution_count": 33,
      "outputs": []
    },
    {
      "cell_type": "code",
      "metadata": {
        "id": "ZN5tjq_x-MIx"
      },
      "source": [
        "#4) TMDM_Train\n",
        "\n",
        "from tqdm import tqdm\n",
        "\n",
        "def TMDM_Train(dataloader, model, loss_function, optimizer):\n",
        "\n",
        "  model.train()\n",
        "  book = tqdm(dataloader, total = len(dataloader))\n",
        "  total_loss = 0.0\n",
        "\n",
        "  for bi, dictionary in enumerate(book):\n",
        "    input_ids = dictionary['input_ids']\n",
        "    token_type_ids = dictionary['token_type_ids']\n",
        "    attention_mask = dictionary['attention_mask']\n",
        "    input_target = dictionary['input_target']\n",
        "\n",
        "    input_ids = input_ids.to(device)\n",
        "    token_type_ids = token_type_ids.to(device)\n",
        "    attention_mask = attention_mask.to(device)\n",
        "\n",
        "    model.zero_grad()\n",
        "    logit = model(input_ids, token_type_ids, attention_mask)\n",
        "\n",
        "    loss = loss_function(logit, input_target)\n",
        "    loss.backward()\n",
        "    optimizer.step()\n",
        "    optimizer.zero_grad()\n",
        "    total_loss += loss\n",
        "\n",
        "  average_loss = total_loss / len(dataloader)\n",
        "  print(\" average_loss: {0:.2f}\".format(average_loss))"
      ],
      "execution_count": 34,
      "outputs": []
    },
    {
      "cell_type": "code",
      "metadata": {
        "id": "Iga4ToHRAWB-"
      },
      "source": [
        "#5) TMDM_Fit\n",
        "\n",
        "def TMDM_Fit(train_function, model, loss_function, epoches, learning_rate):\n",
        "  optimizer = torch.optim.AdamW(model.parameters(), lr = learning_rate)\n",
        "  for i in range(epoches):\n",
        "    print(f\"epoches:{i+1}\")\n",
        "    print('train')\n",
        "    train_function(train_dataloader, model, loss_function, optimizer)\n",
        "    torch.save(model, '/content/gdrive/My Drive/' + f'TMDM_Model:{i + 1}')"
      ],
      "execution_count": 35,
      "outputs": []
    },
    {
      "cell_type": "code",
      "metadata": {
        "id": "eD91KTB6oGal",
        "colab": {
          "base_uri": "https://localhost:8080/",
          "height": 170
        },
        "outputId": "ccb1e897-7ef0-4ec8-d5ce-ec4ca9e2ad72"
      },
      "source": [
        "stop"
      ],
      "execution_count": null,
      "outputs": [
        {
          "output_type": "error",
          "ename": "NameError",
          "evalue": "ignored",
          "traceback": [
            "\u001b[0;31m---------------------------------------------------------------------------\u001b[0m",
            "\u001b[0;31mNameError\u001b[0m                                 Traceback (most recent call last)",
            "\u001b[0;32m<ipython-input-12-4f76a9dad686>\u001b[0m in \u001b[0;36m<module>\u001b[0;34m()\u001b[0m\n\u001b[0;32m----> 1\u001b[0;31m \u001b[0mstop\u001b[0m\u001b[0;34m\u001b[0m\u001b[0;34m\u001b[0m\u001b[0m\n\u001b[0m",
            "\u001b[0;31mNameError\u001b[0m: name 'stop' is not defined"
          ]
        }
      ]
    },
    {
      "cell_type": "code",
      "metadata": {
        "id": "0E8Zi4J-A6lj",
        "colab": {
          "base_uri": "https://localhost:8080/"
        },
        "outputId": "951c9c5a-96c4-4931-fd15-c26cdefbd055"
      },
      "source": [
        "TMDM_Fit(TMDM_Train, TMDM_Model, TMDM_Loss, 8, 2e-5)"
      ],
      "execution_count": 69,
      "outputs": [
        {
          "output_type": "stream",
          "text": [
            "\r  0%|          | 0/300 [00:00<?, ?it/s]"
          ],
          "name": "stderr"
        },
        {
          "output_type": "stream",
          "text": [
            "epoches:1\n",
            "train\n"
          ],
          "name": "stdout"
        },
        {
          "output_type": "stream",
          "text": [
            "100%|██████████| 300/300 [01:22<00:00,  3.64it/s]\n"
          ],
          "name": "stderr"
        },
        {
          "output_type": "stream",
          "text": [
            " average_loss: 0.67\n"
          ],
          "name": "stdout"
        },
        {
          "output_type": "stream",
          "text": [
            "\r  0%|          | 0/300 [00:00<?, ?it/s]"
          ],
          "name": "stderr"
        },
        {
          "output_type": "stream",
          "text": [
            "epoches:2\n",
            "train\n"
          ],
          "name": "stdout"
        },
        {
          "output_type": "stream",
          "text": [
            "100%|██████████| 300/300 [01:22<00:00,  3.64it/s]\n"
          ],
          "name": "stderr"
        },
        {
          "output_type": "stream",
          "text": [
            " average_loss: 0.59\n"
          ],
          "name": "stdout"
        },
        {
          "output_type": "stream",
          "text": [
            "\r  0%|          | 0/300 [00:00<?, ?it/s]"
          ],
          "name": "stderr"
        },
        {
          "output_type": "stream",
          "text": [
            "epoches:3\n",
            "train\n"
          ],
          "name": "stdout"
        },
        {
          "output_type": "stream",
          "text": [
            "100%|██████████| 300/300 [01:22<00:00,  3.64it/s]\n"
          ],
          "name": "stderr"
        },
        {
          "output_type": "stream",
          "text": [
            " average_loss: 0.51\n"
          ],
          "name": "stdout"
        },
        {
          "output_type": "stream",
          "text": [
            "\r  0%|          | 0/300 [00:00<?, ?it/s]"
          ],
          "name": "stderr"
        },
        {
          "output_type": "stream",
          "text": [
            "epoches:4\n",
            "train\n"
          ],
          "name": "stdout"
        },
        {
          "output_type": "stream",
          "text": [
            "100%|██████████| 300/300 [01:22<00:00,  3.64it/s]\n"
          ],
          "name": "stderr"
        },
        {
          "output_type": "stream",
          "text": [
            " average_loss: 0.33\n"
          ],
          "name": "stdout"
        },
        {
          "output_type": "stream",
          "text": [
            "\r  0%|          | 0/300 [00:00<?, ?it/s]"
          ],
          "name": "stderr"
        },
        {
          "output_type": "stream",
          "text": [
            "epoches:5\n",
            "train\n"
          ],
          "name": "stdout"
        },
        {
          "output_type": "stream",
          "text": [
            "100%|██████████| 300/300 [01:22<00:00,  3.64it/s]\n"
          ],
          "name": "stderr"
        },
        {
          "output_type": "stream",
          "text": [
            " average_loss: 0.15\n"
          ],
          "name": "stdout"
        },
        {
          "output_type": "stream",
          "text": [
            "\r  0%|          | 0/300 [00:00<?, ?it/s]"
          ],
          "name": "stderr"
        },
        {
          "output_type": "stream",
          "text": [
            "epoches:6\n",
            "train\n"
          ],
          "name": "stdout"
        },
        {
          "output_type": "stream",
          "text": [
            "100%|██████████| 300/300 [01:22<00:00,  3.63it/s]\n"
          ],
          "name": "stderr"
        },
        {
          "output_type": "stream",
          "text": [
            " average_loss: 0.08\n"
          ],
          "name": "stdout"
        },
        {
          "output_type": "stream",
          "text": [
            "\r  0%|          | 0/300 [00:00<?, ?it/s]"
          ],
          "name": "stderr"
        },
        {
          "output_type": "stream",
          "text": [
            "epoches:7\n",
            "train\n"
          ],
          "name": "stdout"
        },
        {
          "output_type": "stream",
          "text": [
            "100%|██████████| 300/300 [01:22<00:00,  3.63it/s]\n"
          ],
          "name": "stderr"
        },
        {
          "output_type": "stream",
          "text": [
            " average_loss: 0.05\n"
          ],
          "name": "stdout"
        },
        {
          "output_type": "stream",
          "text": [
            "\r  0%|          | 0/300 [00:00<?, ?it/s]"
          ],
          "name": "stderr"
        },
        {
          "output_type": "stream",
          "text": [
            "epoches:8\n",
            "train\n"
          ],
          "name": "stdout"
        },
        {
          "output_type": "stream",
          "text": [
            "100%|██████████| 300/300 [01:22<00:00,  3.63it/s]\n"
          ],
          "name": "stderr"
        },
        {
          "output_type": "stream",
          "text": [
            " average_loss: 0.03\n"
          ],
          "name": "stdout"
        }
      ]
    },
    {
      "cell_type": "code",
      "metadata": {
        "id": "0U-fYuq5enet"
      },
      "source": [
        "Trained_TMDM = torch.load('/content/gdrive/My Drive/' + f'TMDM_Model:{4}')"
      ],
      "execution_count": 80,
      "outputs": []
    },
    {
      "cell_type": "code",
      "metadata": {
        "id": "I_RXoQ86BR7A"
      },
      "source": [
        "# evaluate classification\n",
        " # calculate the accuracy\n",
        "\n",
        "import numpy as np\n",
        "\n",
        "def evaluate_cls(dataloader, model):\n",
        "  \n",
        "    model.eval()\n",
        "    preds = []\n",
        "    labels = []\n",
        "    with torch.no_grad():\n",
        "      for bi, dictionary in enumerate(dataloader):\n",
        "        input_ids = dictionary['input_ids']\n",
        "        token_type_ids = dictionary['token_type_ids']\n",
        "        attention_mask = dictionary['attention_mask']\n",
        "        input_target = dictionary['input_target']\n",
        "        \n",
        "        logits = model(input_ids, token_type_ids, attention_mask)\n",
        "        logits = logits.cpu()\n",
        "        logits = torch.greater_equal(logits, torch.Tensor([0.5]))\n",
        "        logits = logits.float()\n",
        "        preds.extend(logits.tolist())\n",
        "        labels.extend(input_target.tolist())\n",
        "        \n",
        "    return preds, labels"
      ],
      "execution_count": 81,
      "outputs": []
    },
    {
      "cell_type": "code",
      "metadata": {
        "colab": {
          "base_uri": "https://localhost:8080/"
        },
        "id": "IUumNJQgDWmR",
        "outputId": "703db805-3da2-48e2-a201-31519e5b71ea"
      },
      "source": [
        "preds, labels = evaluate_cls(train_dataloader, Trained_TMDM)\n",
        "from sklearn.metrics import accuracy_score\n",
        "accuracy_score(preds, labels)"
      ],
      "execution_count": 82,
      "outputs": [
        {
          "output_type": "execute_result",
          "data": {
            "text/plain": [
              "0.936875"
            ]
          },
          "metadata": {
            "tags": []
          },
          "execution_count": 82
        }
      ]
    },
    {
      "cell_type": "code",
      "metadata": {
        "id": "4VfhNKp5BUOG"
      },
      "source": [
        "###############################################################################"
      ],
      "execution_count": null,
      "outputs": []
    },
    {
      "cell_type": "code",
      "metadata": {
        "id": "36odJEM35s5r"
      },
      "source": [
        "Trained_TMDM"
      ],
      "execution_count": null,
      "outputs": []
    },
    {
      "cell_type": "code",
      "metadata": {
        "id": "1i47AnUXgcON"
      },
      "source": [
        "logits = Trained_TMDM(data['input_ids'].unsqueeze(0), \n",
        "                      data['token_type_ids'].unsqueeze(0), \n",
        "                      data['attention_mask'].unsqueeze(0))\n",
        "logits"
      ],
      "execution_count": null,
      "outputs": []
    },
    {
      "cell_type": "code",
      "metadata": {
        "id": "69Qk_bsU9Im6"
      },
      "source": [
        "#6) TMDM_embedding_matrix\n",
        " #6.1) get embedding_matrix that has information about movies\n",
        "\n",
        "def get_embedding_matrix(data, dataset, max_len, tokenizer, trained_model):\n",
        "  embedding_matrix = []\n",
        "  dataset = dataset(data, max_len, tokenizer)\n",
        "  position_data = torch.arange(max_len)\n",
        "  position_data = position_data.to(device)\n",
        "  for i in range(len(data)):\n",
        "    input = dataset[i]\n",
        "    word_embedding = trained_model.model.embeddings.word_embeddings(input['input_ids'])\n",
        "    token_type_embedding = trained_model.model.embeddings.token_type_embeddings(input['token_type_ids'])\n",
        "    position_embedding = trained_model.model.embeddings.position_embeddings(position_data)\n",
        "    embedding = word_embedding + token_type_embedding + position_embedding\n",
        "    embedding_matrix.append(embedding)\n",
        "  embedding_matrix = torch.stack(embedding_matrix, dim = 0)\n",
        "  embedding_matrix = embedding_matrix.to(device)\n",
        "\n",
        "  return embedding_matrix"
      ],
      "execution_count": null,
      "outputs": []
    },
    {
      "cell_type": "code",
      "metadata": {
        "id": "B6T0Mxy9Uar1"
      },
      "source": [
        "#7) TMDM_Recommendation\n",
        " #7.1) get_recommendation_function\n",
        " #7.2) get_embedding_function\n",
        "  #7.2.1) prepare dataset & position_data\n",
        "  #7.2.2) get_embedding : word_embedding + token_type_embedding + position_embedding \n",
        "\n",
        "class get_titles():\n",
        "\n",
        "  #7.1) get_recommendation_function\n",
        "  def get_recommendations(self, \n",
        "                          data,\n",
        "                          dataset, \n",
        "                          trained_model, \n",
        "                          movie_set,\n",
        "                          max_len, \n",
        "                          tokenizer, \n",
        "                          how_to_do,\n",
        "                          movies_matrix,\n",
        "                          want_num):\n",
        "    \n",
        "    if how_to_do == 'bert_embedding_layer':\n",
        "      print('please type a movie you like, then we will propose ' + f'{want_num}' + ' movies similar')\n",
        "      movie = input('>>>  ')\n",
        "      index = movie_set.index(movie)\n",
        "      input_embedding = self.get_embedding(data, \n",
        "                                           dataset, \n",
        "                                           trained_model, \n",
        "                                           index, \n",
        "                                           max_len, \n",
        "                                           tokenizer)\n",
        "      input_matrix = torch.zeros([movies_matrix.shape[0], max_len, 768])\n",
        "      input_matrix[:, :, :] = input_embedding\n",
        "      input_matrix = input_matrix.to(device)\n",
        "\n",
        "      matrix_mul = torch.mul(input_matrix, movies_matrix)\n",
        "      matrix_mul = matrix_mul.sum(1)\n",
        "      matrix_mul = matrix_mul.sum(1)\n",
        "\n",
        "      wanted_indexes = []\n",
        "      similarity_lists = matrix_mul.tolist()\n",
        "      for i in range(1, (want_num + 1)):\n",
        "        sorted_lists = sorted(similarity_lists)\n",
        "        wanted_value = sorted_lists[-i]\n",
        "        wanted_index = similarity_lists.index(wanted_value)\n",
        "        wanted_indexes.append(wanted_index)\n",
        "\n",
        "      wanted_movies = []\n",
        "      for j in range(len(wanted_indexes)):\n",
        "        title = data['title'][wanted_indexes[j]]\n",
        "        wanted_movies.append(title)\n",
        "    return wanted_movies[1:]\n",
        "\n",
        "  #7.2) get_embedding_function\n",
        "  def get_embedding(self, data, dataset, trained_model, index, max_len, tokenizer):\n",
        "\n",
        "    # 7.2.1) prepare dataset & position_data\n",
        "    dataset = dataset(data, max_len, tokenizer)[index]\n",
        "    position_data = torch.arange(max_len)\n",
        "    position_data = position_data.to(device)\n",
        "  \n",
        "    # 7.2.2) get_embedding : word_embedding + token_type_embedding + position_embedding \n",
        "    word_embedding = trained_model.model.embeddings.word_embeddings(dataset['input_ids'])\n",
        "    token_type_embedding = trained_model.model.embeddings.token_type_embeddings(dataset['token_type_ids'])\n",
        "    position_embedding = trained_model.model.embeddings.position_embeddings(position_data)\n",
        "    embedding = word_embedding + position_embedding + token_type_embedding\n",
        "\n",
        "    return embedding\n",
        "\n",
        "TMDM_Recommendation = get_titles()"
      ],
      "execution_count": null,
      "outputs": []
    },
    {
      "cell_type": "code",
      "metadata": {
        "id": "3DFY5ryEu9Eh"
      },
      "source": [
        "embedding_matrix = get_embedding_matrix(movies, TMDM_Dataset, 80, BERT_Tokenizer, Trained_TMDM)\n",
        "embedding_matrix = embedding_matrix[romance_movies]\n"
      ],
      "execution_count": null,
      "outputs": []
    },
    {
      "cell_type": "code",
      "metadata": {
        "id": "MfK-1RWgDL3H"
      },
      "source": [
        "TMDM_Recommendation.get_recommendations(movies, TMDM_Dataset, Trained_TMDM, title, 80, BERT_Tokenizer, 'bert_embedding_layer', embedding_matrix, 30)"
      ],
      "execution_count": null,
      "outputs": []
    }
  ]
}
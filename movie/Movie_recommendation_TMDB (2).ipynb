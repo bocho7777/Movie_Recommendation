{
  "nbformat": 4,
  "nbformat_minor": 0,
  "metadata": {
    "colab": {
      "name": "Movie_recommendation_TMDB",
      "provenance": [],
      "machine_shape": "hm"
    },
    "kernelspec": {
      "name": "python3",
      "display_name": "Python 3"
    },
    "accelerator": "GPU",
    "widgets": {
      "application/vnd.jupyter.widget-state+json": {
        "2cbac726514d4fd0abb8cb0c1082cffc": {
          "model_module": "@jupyter-widgets/controls",
          "model_name": "HBoxModel",
          "state": {
            "_view_name": "HBoxView",
            "_dom_classes": [],
            "_model_name": "HBoxModel",
            "_view_module": "@jupyter-widgets/controls",
            "_model_module_version": "1.5.0",
            "_view_count": null,
            "_view_module_version": "1.5.0",
            "box_style": "",
            "layout": "IPY_MODEL_bfc68b0551674c839982b9a06f852af1",
            "_model_module": "@jupyter-widgets/controls",
            "children": [
              "IPY_MODEL_98b99979575c48a0817ec343f1bc97bd",
              "IPY_MODEL_0dc12af329fb45ef879a9ddd9871aa54"
            ]
          }
        },
        "bfc68b0551674c839982b9a06f852af1": {
          "model_module": "@jupyter-widgets/base",
          "model_name": "LayoutModel",
          "state": {
            "_view_name": "LayoutView",
            "grid_template_rows": null,
            "right": null,
            "justify_content": null,
            "_view_module": "@jupyter-widgets/base",
            "overflow": null,
            "_model_module_version": "1.2.0",
            "_view_count": null,
            "flex_flow": null,
            "width": null,
            "min_width": null,
            "border": null,
            "align_items": null,
            "bottom": null,
            "_model_module": "@jupyter-widgets/base",
            "top": null,
            "grid_column": null,
            "overflow_y": null,
            "overflow_x": null,
            "grid_auto_flow": null,
            "grid_area": null,
            "grid_template_columns": null,
            "flex": null,
            "_model_name": "LayoutModel",
            "justify_items": null,
            "grid_row": null,
            "max_height": null,
            "align_content": null,
            "visibility": null,
            "align_self": null,
            "height": null,
            "min_height": null,
            "padding": null,
            "grid_auto_rows": null,
            "grid_gap": null,
            "max_width": null,
            "order": null,
            "_view_module_version": "1.2.0",
            "grid_template_areas": null,
            "object_position": null,
            "object_fit": null,
            "grid_auto_columns": null,
            "margin": null,
            "display": null,
            "left": null
          }
        },
        "98b99979575c48a0817ec343f1bc97bd": {
          "model_module": "@jupyter-widgets/controls",
          "model_name": "FloatProgressModel",
          "state": {
            "_view_name": "ProgressView",
            "style": "IPY_MODEL_0b2b3b7cdd284a1ba14800363feb6718",
            "_dom_classes": [],
            "description": "Downloading: 100%",
            "_model_name": "FloatProgressModel",
            "bar_style": "success",
            "max": 433,
            "_view_module": "@jupyter-widgets/controls",
            "_model_module_version": "1.5.0",
            "value": 433,
            "_view_count": null,
            "_view_module_version": "1.5.0",
            "orientation": "horizontal",
            "min": 0,
            "description_tooltip": null,
            "_model_module": "@jupyter-widgets/controls",
            "layout": "IPY_MODEL_aa9eb1648ee3434b9f03e428629b90a0"
          }
        },
        "0dc12af329fb45ef879a9ddd9871aa54": {
          "model_module": "@jupyter-widgets/controls",
          "model_name": "HTMLModel",
          "state": {
            "_view_name": "HTMLView",
            "style": "IPY_MODEL_5321a56e1352460483db9d57a508c4fc",
            "_dom_classes": [],
            "description": "",
            "_model_name": "HTMLModel",
            "placeholder": "​",
            "_view_module": "@jupyter-widgets/controls",
            "_model_module_version": "1.5.0",
            "value": " 433/433 [00:06&lt;00:00, 68.8B/s]",
            "_view_count": null,
            "_view_module_version": "1.5.0",
            "description_tooltip": null,
            "_model_module": "@jupyter-widgets/controls",
            "layout": "IPY_MODEL_290209026831455d8e33f8f5abad51af"
          }
        },
        "0b2b3b7cdd284a1ba14800363feb6718": {
          "model_module": "@jupyter-widgets/controls",
          "model_name": "ProgressStyleModel",
          "state": {
            "_view_name": "StyleView",
            "_model_name": "ProgressStyleModel",
            "description_width": "initial",
            "_view_module": "@jupyter-widgets/base",
            "_model_module_version": "1.5.0",
            "_view_count": null,
            "_view_module_version": "1.2.0",
            "bar_color": null,
            "_model_module": "@jupyter-widgets/controls"
          }
        },
        "aa9eb1648ee3434b9f03e428629b90a0": {
          "model_module": "@jupyter-widgets/base",
          "model_name": "LayoutModel",
          "state": {
            "_view_name": "LayoutView",
            "grid_template_rows": null,
            "right": null,
            "justify_content": null,
            "_view_module": "@jupyter-widgets/base",
            "overflow": null,
            "_model_module_version": "1.2.0",
            "_view_count": null,
            "flex_flow": null,
            "width": null,
            "min_width": null,
            "border": null,
            "align_items": null,
            "bottom": null,
            "_model_module": "@jupyter-widgets/base",
            "top": null,
            "grid_column": null,
            "overflow_y": null,
            "overflow_x": null,
            "grid_auto_flow": null,
            "grid_area": null,
            "grid_template_columns": null,
            "flex": null,
            "_model_name": "LayoutModel",
            "justify_items": null,
            "grid_row": null,
            "max_height": null,
            "align_content": null,
            "visibility": null,
            "align_self": null,
            "height": null,
            "min_height": null,
            "padding": null,
            "grid_auto_rows": null,
            "grid_gap": null,
            "max_width": null,
            "order": null,
            "_view_module_version": "1.2.0",
            "grid_template_areas": null,
            "object_position": null,
            "object_fit": null,
            "grid_auto_columns": null,
            "margin": null,
            "display": null,
            "left": null
          }
        },
        "5321a56e1352460483db9d57a508c4fc": {
          "model_module": "@jupyter-widgets/controls",
          "model_name": "DescriptionStyleModel",
          "state": {
            "_view_name": "StyleView",
            "_model_name": "DescriptionStyleModel",
            "description_width": "",
            "_view_module": "@jupyter-widgets/base",
            "_model_module_version": "1.5.0",
            "_view_count": null,
            "_view_module_version": "1.2.0",
            "_model_module": "@jupyter-widgets/controls"
          }
        },
        "290209026831455d8e33f8f5abad51af": {
          "model_module": "@jupyter-widgets/base",
          "model_name": "LayoutModel",
          "state": {
            "_view_name": "LayoutView",
            "grid_template_rows": null,
            "right": null,
            "justify_content": null,
            "_view_module": "@jupyter-widgets/base",
            "overflow": null,
            "_model_module_version": "1.2.0",
            "_view_count": null,
            "flex_flow": null,
            "width": null,
            "min_width": null,
            "border": null,
            "align_items": null,
            "bottom": null,
            "_model_module": "@jupyter-widgets/base",
            "top": null,
            "grid_column": null,
            "overflow_y": null,
            "overflow_x": null,
            "grid_auto_flow": null,
            "grid_area": null,
            "grid_template_columns": null,
            "flex": null,
            "_model_name": "LayoutModel",
            "justify_items": null,
            "grid_row": null,
            "max_height": null,
            "align_content": null,
            "visibility": null,
            "align_self": null,
            "height": null,
            "min_height": null,
            "padding": null,
            "grid_auto_rows": null,
            "grid_gap": null,
            "max_width": null,
            "order": null,
            "_view_module_version": "1.2.0",
            "grid_template_areas": null,
            "object_position": null,
            "object_fit": null,
            "grid_auto_columns": null,
            "margin": null,
            "display": null,
            "left": null
          }
        },
        "b389b230bc7543e69ed1fb854250b859": {
          "model_module": "@jupyter-widgets/controls",
          "model_name": "HBoxModel",
          "state": {
            "_view_name": "HBoxView",
            "_dom_classes": [],
            "_model_name": "HBoxModel",
            "_view_module": "@jupyter-widgets/controls",
            "_model_module_version": "1.5.0",
            "_view_count": null,
            "_view_module_version": "1.5.0",
            "box_style": "",
            "layout": "IPY_MODEL_6030917204c7486a8725ee8a7381f919",
            "_model_module": "@jupyter-widgets/controls",
            "children": [
              "IPY_MODEL_547aa2cd1e8c44a59e1e90062269d843",
              "IPY_MODEL_fe707f326bb84d589340dea3a7973087"
            ]
          }
        },
        "6030917204c7486a8725ee8a7381f919": {
          "model_module": "@jupyter-widgets/base",
          "model_name": "LayoutModel",
          "state": {
            "_view_name": "LayoutView",
            "grid_template_rows": null,
            "right": null,
            "justify_content": null,
            "_view_module": "@jupyter-widgets/base",
            "overflow": null,
            "_model_module_version": "1.2.0",
            "_view_count": null,
            "flex_flow": null,
            "width": null,
            "min_width": null,
            "border": null,
            "align_items": null,
            "bottom": null,
            "_model_module": "@jupyter-widgets/base",
            "top": null,
            "grid_column": null,
            "overflow_y": null,
            "overflow_x": null,
            "grid_auto_flow": null,
            "grid_area": null,
            "grid_template_columns": null,
            "flex": null,
            "_model_name": "LayoutModel",
            "justify_items": null,
            "grid_row": null,
            "max_height": null,
            "align_content": null,
            "visibility": null,
            "align_self": null,
            "height": null,
            "min_height": null,
            "padding": null,
            "grid_auto_rows": null,
            "grid_gap": null,
            "max_width": null,
            "order": null,
            "_view_module_version": "1.2.0",
            "grid_template_areas": null,
            "object_position": null,
            "object_fit": null,
            "grid_auto_columns": null,
            "margin": null,
            "display": null,
            "left": null
          }
        },
        "547aa2cd1e8c44a59e1e90062269d843": {
          "model_module": "@jupyter-widgets/controls",
          "model_name": "FloatProgressModel",
          "state": {
            "_view_name": "ProgressView",
            "style": "IPY_MODEL_c6184bcac8d6441d958dac633452cdc0",
            "_dom_classes": [],
            "description": "Downloading: 100%",
            "_model_name": "FloatProgressModel",
            "bar_style": "success",
            "max": 440473133,
            "_view_module": "@jupyter-widgets/controls",
            "_model_module_version": "1.5.0",
            "value": 440473133,
            "_view_count": null,
            "_view_module_version": "1.5.0",
            "orientation": "horizontal",
            "min": 0,
            "description_tooltip": null,
            "_model_module": "@jupyter-widgets/controls",
            "layout": "IPY_MODEL_40c9d99197644968a46dab8d23abe643"
          }
        },
        "fe707f326bb84d589340dea3a7973087": {
          "model_module": "@jupyter-widgets/controls",
          "model_name": "HTMLModel",
          "state": {
            "_view_name": "HTMLView",
            "style": "IPY_MODEL_0f2c57c4d6a140c9bb2f754c0d06b6cc",
            "_dom_classes": [],
            "description": "",
            "_model_name": "HTMLModel",
            "placeholder": "​",
            "_view_module": "@jupyter-widgets/controls",
            "_model_module_version": "1.5.0",
            "value": " 440M/440M [00:05&lt;00:00, 84.9MB/s]",
            "_view_count": null,
            "_view_module_version": "1.5.0",
            "description_tooltip": null,
            "_model_module": "@jupyter-widgets/controls",
            "layout": "IPY_MODEL_449cea2134564c4b94288b0519d1fd2c"
          }
        },
        "c6184bcac8d6441d958dac633452cdc0": {
          "model_module": "@jupyter-widgets/controls",
          "model_name": "ProgressStyleModel",
          "state": {
            "_view_name": "StyleView",
            "_model_name": "ProgressStyleModel",
            "description_width": "initial",
            "_view_module": "@jupyter-widgets/base",
            "_model_module_version": "1.5.0",
            "_view_count": null,
            "_view_module_version": "1.2.0",
            "bar_color": null,
            "_model_module": "@jupyter-widgets/controls"
          }
        },
        "40c9d99197644968a46dab8d23abe643": {
          "model_module": "@jupyter-widgets/base",
          "model_name": "LayoutModel",
          "state": {
            "_view_name": "LayoutView",
            "grid_template_rows": null,
            "right": null,
            "justify_content": null,
            "_view_module": "@jupyter-widgets/base",
            "overflow": null,
            "_model_module_version": "1.2.0",
            "_view_count": null,
            "flex_flow": null,
            "width": null,
            "min_width": null,
            "border": null,
            "align_items": null,
            "bottom": null,
            "_model_module": "@jupyter-widgets/base",
            "top": null,
            "grid_column": null,
            "overflow_y": null,
            "overflow_x": null,
            "grid_auto_flow": null,
            "grid_area": null,
            "grid_template_columns": null,
            "flex": null,
            "_model_name": "LayoutModel",
            "justify_items": null,
            "grid_row": null,
            "max_height": null,
            "align_content": null,
            "visibility": null,
            "align_self": null,
            "height": null,
            "min_height": null,
            "padding": null,
            "grid_auto_rows": null,
            "grid_gap": null,
            "max_width": null,
            "order": null,
            "_view_module_version": "1.2.0",
            "grid_template_areas": null,
            "object_position": null,
            "object_fit": null,
            "grid_auto_columns": null,
            "margin": null,
            "display": null,
            "left": null
          }
        },
        "0f2c57c4d6a140c9bb2f754c0d06b6cc": {
          "model_module": "@jupyter-widgets/controls",
          "model_name": "DescriptionStyleModel",
          "state": {
            "_view_name": "StyleView",
            "_model_name": "DescriptionStyleModel",
            "description_width": "",
            "_view_module": "@jupyter-widgets/base",
            "_model_module_version": "1.5.0",
            "_view_count": null,
            "_view_module_version": "1.2.0",
            "_model_module": "@jupyter-widgets/controls"
          }
        },
        "449cea2134564c4b94288b0519d1fd2c": {
          "model_module": "@jupyter-widgets/base",
          "model_name": "LayoutModel",
          "state": {
            "_view_name": "LayoutView",
            "grid_template_rows": null,
            "right": null,
            "justify_content": null,
            "_view_module": "@jupyter-widgets/base",
            "overflow": null,
            "_model_module_version": "1.2.0",
            "_view_count": null,
            "flex_flow": null,
            "width": null,
            "min_width": null,
            "border": null,
            "align_items": null,
            "bottom": null,
            "_model_module": "@jupyter-widgets/base",
            "top": null,
            "grid_column": null,
            "overflow_y": null,
            "overflow_x": null,
            "grid_auto_flow": null,
            "grid_area": null,
            "grid_template_columns": null,
            "flex": null,
            "_model_name": "LayoutModel",
            "justify_items": null,
            "grid_row": null,
            "max_height": null,
            "align_content": null,
            "visibility": null,
            "align_self": null,
            "height": null,
            "min_height": null,
            "padding": null,
            "grid_auto_rows": null,
            "grid_gap": null,
            "max_width": null,
            "order": null,
            "_view_module_version": "1.2.0",
            "grid_template_areas": null,
            "object_position": null,
            "object_fit": null,
            "grid_auto_columns": null,
            "margin": null,
            "display": null,
            "left": null
          }
        }
      }
    }
  },
  "cells": [
    {
      "cell_type": "code",
      "metadata": {
        "id": "8qcxYLOzj_mK"
      },
      "source": [
        "# Movie_recommendation_BERT \n",
        " \n",
        "#0) read_data from google drive\n",
        "\n",
        "#1) TMDN_Dataset\n",
        " #1.1) get genres & overview from movies\n",
        " #1.2) tokenize data using BERT_Tokenizer\n",
        " #1.3) make input_form : [CLS] + genres + [SEP] + overview + [SEP]\n",
        " #1.4) make input be tensor\n",
        "\n",
        " #1.5) normalize label(make mean 1)\n",
        "  #1.5.1) popularity\n",
        "  #1.5.2) vote_average\n",
        "  #1.5.3) vote_count\n",
        " #1.6) make input_target : popularity + vote_average * vote_count\n",
        "\n",
        "#2) TMDM_Model\n",
        " #2.1) using Bert_base model\n",
        " #2.2) get last_hidden_states\n",
        " #2.3) get apool & mpool\n",
        "\n",
        "#3) TMDM_Loss\n",
        " #3.1) using BCE_Loss\n",
        "\n",
        "#4) TMDM_Train\n",
        "\n",
        "#5) TMDM_Fit\n",
        "\n",
        "#6) TMDM_embedding_matrix\n",
        " #6.1) get embedding_matrix that has information about movies\n",
        "\n",
        "#7) TMDM_Recommendation\n",
        " #7.1) get_recommendation_function\n",
        " #7.2) get_embedding_function\n",
        "  #7.2.1) prepare dataset & position_data\n",
        "  #7.2.2) get_embedding : word_embedding + token_type_embedding + position_embedding "
      ],
      "execution_count": 1,
      "outputs": []
    },
    {
      "cell_type": "code",
      "metadata": {
        "id": "KVFEXSsYjjvU",
        "colab": {
          "base_uri": "https://localhost:8080/"
        },
        "outputId": "8b63ceb5-1574-46ce-a1f4-2db90e27cbf7"
      },
      "source": [
        "########################################################################\n",
        "########################################################################\n",
        "from google.colab import drive\n",
        "drive.mount(\"/content/gdrive\", force_remount = True)\n",
        "# 저는  코랩이랑 구글 드라이브를 써서 요부분은 지아님 환경에 맞게 바꿔주셔야 할것 같아요! \n",
        "########################################################################\n",
        "########################################################################\n",
        "!pip install transformers"
      ],
      "execution_count": 2,
      "outputs": [
        {
          "output_type": "stream",
          "text": [
            "Mounted at /content/gdrive\n",
            "Collecting transformers\n",
            "\u001b[?25l  Downloading https://files.pythonhosted.org/packages/3a/83/e74092e7f24a08d751aa59b37a9fc572b2e4af3918cb66f7766c3affb1b4/transformers-3.5.1-py3-none-any.whl (1.3MB)\n",
            "\u001b[K     |████████████████████████████████| 1.3MB 5.8MB/s \n",
            "\u001b[?25hCollecting tokenizers==0.9.3\n",
            "\u001b[?25l  Downloading https://files.pythonhosted.org/packages/4c/34/b39eb9994bc3c999270b69c9eea40ecc6f0e97991dba28282b9fd32d44ee/tokenizers-0.9.3-cp36-cp36m-manylinux1_x86_64.whl (2.9MB)\n",
            "\u001b[K     |████████████████████████████████| 2.9MB 39.6MB/s \n",
            "\u001b[?25hRequirement already satisfied: packaging in /usr/local/lib/python3.6/dist-packages (from transformers) (20.4)\n",
            "Requirement already satisfied: dataclasses; python_version < \"3.7\" in /usr/local/lib/python3.6/dist-packages (from transformers) (0.8)\n",
            "Requirement already satisfied: requests in /usr/local/lib/python3.6/dist-packages (from transformers) (2.23.0)\n",
            "Collecting sentencepiece==0.1.91\n",
            "\u001b[?25l  Downloading https://files.pythonhosted.org/packages/d4/a4/d0a884c4300004a78cca907a6ff9a5e9fe4f090f5d95ab341c53d28cbc58/sentencepiece-0.1.91-cp36-cp36m-manylinux1_x86_64.whl (1.1MB)\n",
            "\u001b[K     |████████████████████████████████| 1.1MB 72.6MB/s \n",
            "\u001b[?25hRequirement already satisfied: numpy in /usr/local/lib/python3.6/dist-packages (from transformers) (1.18.5)\n",
            "Requirement already satisfied: filelock in /usr/local/lib/python3.6/dist-packages (from transformers) (3.0.12)\n",
            "Requirement already satisfied: regex!=2019.12.17 in /usr/local/lib/python3.6/dist-packages (from transformers) (2019.12.20)\n",
            "Requirement already satisfied: protobuf in /usr/local/lib/python3.6/dist-packages (from transformers) (3.12.4)\n",
            "Collecting sacremoses\n",
            "\u001b[?25l  Downloading https://files.pythonhosted.org/packages/7d/34/09d19aff26edcc8eb2a01bed8e98f13a1537005d31e95233fd48216eed10/sacremoses-0.0.43.tar.gz (883kB)\n",
            "\u001b[K     |████████████████████████████████| 890kB 60.5MB/s \n",
            "\u001b[?25hRequirement already satisfied: tqdm>=4.27 in /usr/local/lib/python3.6/dist-packages (from transformers) (4.41.1)\n",
            "Requirement already satisfied: six in /usr/local/lib/python3.6/dist-packages (from packaging->transformers) (1.15.0)\n",
            "Requirement already satisfied: pyparsing>=2.0.2 in /usr/local/lib/python3.6/dist-packages (from packaging->transformers) (2.4.7)\n",
            "Requirement already satisfied: chardet<4,>=3.0.2 in /usr/local/lib/python3.6/dist-packages (from requests->transformers) (3.0.4)\n",
            "Requirement already satisfied: certifi>=2017.4.17 in /usr/local/lib/python3.6/dist-packages (from requests->transformers) (2020.11.8)\n",
            "Requirement already satisfied: idna<3,>=2.5 in /usr/local/lib/python3.6/dist-packages (from requests->transformers) (2.10)\n",
            "Requirement already satisfied: urllib3!=1.25.0,!=1.25.1,<1.26,>=1.21.1 in /usr/local/lib/python3.6/dist-packages (from requests->transformers) (1.24.3)\n",
            "Requirement already satisfied: setuptools in /usr/local/lib/python3.6/dist-packages (from protobuf->transformers) (50.3.2)\n",
            "Requirement already satisfied: click in /usr/local/lib/python3.6/dist-packages (from sacremoses->transformers) (7.1.2)\n",
            "Requirement already satisfied: joblib in /usr/local/lib/python3.6/dist-packages (from sacremoses->transformers) (0.17.0)\n",
            "Building wheels for collected packages: sacremoses\n",
            "  Building wheel for sacremoses (setup.py) ... \u001b[?25l\u001b[?25hdone\n",
            "  Created wheel for sacremoses: filename=sacremoses-0.0.43-cp36-none-any.whl size=893257 sha256=8de84a7d6f4a7472d3b02c711adad41caf497944b2e863eba6baf7d511452af1\n",
            "  Stored in directory: /root/.cache/pip/wheels/29/3c/fd/7ce5c3f0666dab31a50123635e6fb5e19ceb42ce38d4e58f45\n",
            "Successfully built sacremoses\n",
            "Installing collected packages: tokenizers, sentencepiece, sacremoses, transformers\n",
            "Successfully installed sacremoses-0.0.43 sentencepiece-0.1.91 tokenizers-0.9.3 transformers-3.5.1\n"
          ],
          "name": "stdout"
        }
      ]
    },
    {
      "cell_type": "code",
      "metadata": {
        "id": "P5LMP_mWkWTx"
      },
      "source": [
        "#0) read_data from google drive\n",
        "\n",
        "import pandas as pd\n",
        "\n",
        "########################################################################\n",
        "########################################################################\n",
        "# kaggle tmdm 데이터 불러오는 것도 지아님에 맞게 바꿔야할 것 같아요!\n",
        "movies = pd.read_csv('/content/gdrive/My Drive/tmdb_5000_movies.csv')\n",
        "########################################################################\n",
        "########################################################################\n",
        "#movies = movies.drop(2656).reset_index(drop = True)\n",
        "#movies = movies.drop(4139).reset_index(drop = True)\n",
        "#movies = movies.drop(4339).reset_index(drop = True)\n",
        "#movies = movies.drop(4398).reset_index(drop = True)\n",
        "#movies = movies.drop(4427).reset_index(drop = True)\n",
        "title = []\n",
        "for i in range(len(movies)):\n",
        "  title.append(movies['title'][i])\n",
        "\n",
        "action_movies = []\n",
        "for j in range(len(movies)):\n",
        "  if 'Action' in movies['genres'][j]:\n",
        "    action_movies.append(j)\n",
        "\n",
        "fantasy_movies = []\n",
        "for j in range(len(movies)):\n",
        "  if 'Fantasy' in movies['genres'][j]:\n",
        "    fantasy_movies.append(j)\n",
        "\n",
        "comedy_movies = []\n",
        "for j in range(len(movies)):\n",
        "  if 'Comedy' in movies['genres'][j]:\n",
        "    comedy_movies.append(j)\n",
        "\n",
        "horror_movies = []\n",
        "for j in range(len(movies)):\n",
        "  if 'Horror' in movies['genres'][j]:\n",
        "    horror_movies.append(j)\n",
        "\n",
        "romance_movies = []\n",
        "for j in range(len(movies)):\n",
        "  if 'Romance' in movies['genres'][j]:\n",
        "    romance_movies.append(j)"
      ],
      "execution_count": 3,
      "outputs": []
    },
    {
      "cell_type": "code",
      "metadata": {
        "id": "Vp5ueWpgkpSP"
      },
      "source": [
        "#1) TMDN_Dataset\n",
        " #1.1) get genres & overview from movies\n",
        " #1.2) tokenize data using BERT_Tokenizer\n",
        " #1.3) make input_form : [CLS] + genres + [SEP] + overview + tagline + [SEP]\n",
        " #1.4) make token_type_ids\n",
        " #1.5) make attention_mask\n",
        " #1.6) make input be tensor\n",
        "  #1.6.1) input_ids\n",
        "  #1.6.2) token_type_ids\n",
        "  #1.6.3) attention_mask\n",
        " #1.7) normalize label(make mean 1)\n",
        "  #1.7.1) popularity\n",
        "  #1.7.2) vote_average\n",
        "  #1.7.3) vote_count\n",
        "  #1.7.4) revenue\n",
        " #1.8) make input_target : popularity + vote_average * vote_count\n",
        "\n",
        "device = 'cuda'\n",
        "\n",
        "import math\n",
        "import torch\n",
        "import numpy as np\n",
        "from transformers import BertTokenizer, BertModel, BertConfig\n",
        "\n",
        "BERT_Tokenizer = BertTokenizer.from_pretrained('bert-base-uncased', do_lower_case=True)\n",
        "\n",
        "class TMDM_Dataset(torch.utils.data.Dataset):\n",
        "  def __init__(self, movie_data, max_len, tokenizer):\n",
        "    self.movie_data = movie_data\n",
        "    self.max_len = max_len\n",
        "    self.min_len = 10\n",
        "    self.tokenizer = tokenizer\n",
        "    self.encoded_cls = self.tokenizer.convert_tokens_to_ids('[CLS]')\n",
        "    self.encoded_sep = self.tokenizer.convert_tokens_to_ids('[SEP]')\n",
        "    self.encoded_pad = self.tokenizer.convert_tokens_to_ids('[PAD]')\n",
        "    self.popularity_mean = 21.49230058817409\n",
        "    self.vote_average_mean = 6.092171559442011\n",
        "    self.vote_count_mean = 690.2179887570269\n",
        "    self.target_threshold = 2.04\n",
        "\n",
        "  def __len__(self):\n",
        "    return len(self.movie_data)\n",
        "\n",
        "  def __getitem__(self, index):\n",
        "\n",
        "    #1.1) get genres & overview from movies\n",
        "    # genres\n",
        "    genres = self.movie_data.loc[index]['genres']\n",
        "    if genres == '[]':\n",
        "      genres = '[{\"id\": -1, \"name\": \"None\"}]'\n",
        "    genres = self.get_genres(genres)\n",
        "    genres = ' '.join(genres)\n",
        "    \n",
        "    # overview\n",
        "    overview = self.movie_data.loc[index]['overview']\n",
        "\n",
        "    # tagline\n",
        "    tagline = self.movie_data.loc[index]['tagline']\n",
        "\n",
        "\n",
        "    #1.2) tokenize data using BERT_Tokenizer\n",
        "    # genres_token & genres_encoded\n",
        "    if self.check_null(genres) == True:\n",
        "      genres = 'None'\n",
        "    genres = genres.lower()\n",
        "    genres_token = self.tokenizer.tokenize(genres)\n",
        "    genres_encoded = self.tokenizer.encode(genres_token)[1:-1]\n",
        "\n",
        "    # overview_token & overview_encoded\n",
        "    if self.check_null(overview) == True or len(overview) == 1:\n",
        "      overview = 'None'\n",
        "    overview = overview.lower()\n",
        "    overview_token = self.tokenizer.tokenize(overview)\n",
        "    overview_encoded = self.tokenizer.encode(overview_token)[1:-1]\n",
        "\n",
        "    # tagline_token & tagline_encoded\n",
        "    if self.check_null(tagline) == True:\n",
        "      tagline = 'None'\n",
        "    tagline = tagline.lower()\n",
        "    tagline_token = self.tokenizer.tokenize(tagline)\n",
        "    tagline_encoded = self.tokenizer.encode(tagline_token)[1:-1]\n",
        "\n",
        "    # content_encoded = overview_encoded + tagline_encoded\n",
        "    content_encoded = overview_encoded + tagline_encoded\n",
        "\n",
        "    #1.3) make input_form : [CLS] + genres + [SEP] + content + [SEP]\n",
        "    if len(genres_encoded) + len(content_encoded) >= (self.max_len - 3):\n",
        "      content_encoded = content_encoded[:(self.max_len - 3 - len(genres))]\n",
        "       \n",
        "    input_ids = [self.encoded_cls] + genres_encoded + [self.encoded_sep] + \\\n",
        "    content_encoded + [self.encoded_sep]\n",
        "    \n",
        "    #1.4) make token_type_ids\n",
        "    sent1_length = len(genres_encoded)\n",
        "    sent2_length = len(content_encoded)\n",
        "    token_type_ids = [0] * (sent1_length + 2) + [1] * (sent2_length + 1)\n",
        "\n",
        "\n",
        "    #1.5) make attention_mask\n",
        "    attention_mask = [1] * len(input_ids)\n",
        "\n",
        "    #1.6) padding input to max_len & make tensor form\n",
        "    # input_ids\n",
        "    padding_length = self.max_len - len(input_ids)\n",
        "    input_ids = self.padding(input_ids, self.encoded_pad, padding_length)\n",
        "    input_ids = torch.tensor(input_ids)\n",
        "    input_ids = input_ids.long()\n",
        "    input_ids = input_ids.to(device)\n",
        "\n",
        "    # token_type_ids\n",
        "    token_type_ids = self.padding(token_type_ids, self.encoded_pad, padding_length)\n",
        "    token_type_ids = torch.Tensor(token_type_ids)\n",
        "    token_type_ids = token_type_ids.long()\n",
        "    token_type_ids = token_type_ids.to(device)\n",
        "\n",
        "    # attention_mask\n",
        "    attention_mask = self.padding(attention_mask, self.encoded_pad, padding_length)\n",
        "    attention_mask = torch.Tensor(attention_mask)\n",
        "    attention_mask = attention_mask.long()\n",
        "    attention_mask = attention_mask.to(device)\n",
        "\n",
        "\n",
        "    #1.7) normalize label(make mean 1)\n",
        "    #1.7.1) popularity\n",
        "    popularity = self.movie_data.loc[index]['popularity']\n",
        "    popularity = np.divide(popularity, self.popularity_mean)\n",
        "    \n",
        "    #1.7.2) vote_average\n",
        "    vote_average = self.movie_data.loc[index]['vote_average']\n",
        "    vote_average = np.divide(vote_average, self.vote_average_mean)\n",
        "\n",
        "    #1.7.3) vote_count\n",
        "    vote_count = self.movie_data.loc[index]['vote_count']\n",
        "    vote_count = np.divide(vote_count, self.vote_count_mean)\n",
        "\n",
        "\n",
        "    #1.8) make input_target : popularity + vote_average * vote_count\n",
        "    input_target = popularity + vote_average * vote_count\n",
        "    if input_target >= self.target_threshold:\n",
        "      input_target = torch.Tensor([1])\n",
        "    else:\n",
        "      input_target = torch.Tensor([0])\n",
        "    input_target = input_target.to(device)\n",
        "\n",
        "\n",
        "    # dictionary\n",
        "    dictionary = {}\n",
        "\n",
        "    dictionary['input_ids'] = input_ids\n",
        "    dictionary['token_type_ids'] = token_type_ids\n",
        "    dictionary['attention_mask'] = attention_mask\n",
        "    dictionary['input_target'] = input_target\n",
        "\n",
        "    return dictionary\n",
        "    \n",
        "  def get_genres(self, data):\n",
        "    genres = []\n",
        "    for i in range(len(data)):\n",
        "      if data[i] == ':' and data[i + 1] == ' ' and data[i + 2] == '\"':\n",
        "        j = i + 3\n",
        "        while data[j] != '\"':\n",
        "          genres.append(data[j])\n",
        "          j = j + 1\n",
        "        genres.append('/')\n",
        " \n",
        "    genres = ''.join(genres)\n",
        "    genres = genres.split('/')[:-1]\n",
        "    return genres\n",
        "\n",
        "  def padding(self, input, value, length):\n",
        "    return input + [value] * length\n",
        "\n",
        "  def check_null(self, input):\n",
        "    if isinstance(input, str) == True:\n",
        "      boolean = pd.isnull(input)\n",
        "  \n",
        "    elif isinstance(input, float) == True:\n",
        "      boolean = math.isnan(input)\n",
        "\n",
        "    return boolean"
      ],
      "execution_count": 5,
      "outputs": []
    },
    {
      "cell_type": "code",
      "metadata": {
        "colab": {
          "base_uri": "https://localhost:8080/"
        },
        "id": "o8binsV36-t1",
        "outputId": "d040a5ab-0983-4cfa-e424-fef56fd3a36d"
      },
      "source": [
        "data = TMDM_Dataset(movies, 80, BERT_Tokenizer)[4401]\n",
        "data"
      ],
      "execution_count": 10,
      "outputs": [
        {
          "output_type": "execute_result",
          "data": {
            "text/plain": [
              "{'attention_mask': tensor([1, 1, 1, 1, 1, 1, 1, 1, 1, 0, 0, 0, 0, 0, 0, 0, 0, 0, 0, 0, 0, 0, 0, 0,\n",
              "         0, 0, 0, 0, 0, 0, 0, 0, 0, 0, 0, 0, 0, 0, 0, 0, 0, 0, 0, 0, 0, 0, 0, 0,\n",
              "         0, 0, 0, 0, 0, 0, 0, 0, 0, 0, 0, 0, 0, 0, 0, 0, 0, 0, 0, 0, 0, 0, 0, 0,\n",
              "         0, 0, 0, 0, 0, 0, 0, 0], device='cuda:0'),\n",
              " 'input_ids': tensor([ 101, 2895, 4038, 2671, 4349,  102, 3904, 3904,  102,    0,    0,    0,\n",
              "            0,    0,    0,    0,    0,    0,    0,    0,    0,    0,    0,    0,\n",
              "            0,    0,    0,    0,    0,    0,    0,    0,    0,    0,    0,    0,\n",
              "            0,    0,    0,    0,    0,    0,    0,    0,    0,    0,    0,    0,\n",
              "            0,    0,    0,    0,    0,    0,    0,    0,    0,    0,    0,    0,\n",
              "            0,    0,    0,    0,    0,    0,    0,    0,    0,    0,    0,    0,\n",
              "            0,    0,    0,    0,    0,    0,    0,    0], device='cuda:0'),\n",
              " 'input_target': tensor([0.], device='cuda:0'),\n",
              " 'token_type_ids': tensor([0, 0, 0, 0, 0, 0, 1, 1, 1, 0, 0, 0, 0, 0, 0, 0, 0, 0, 0, 0, 0, 0, 0, 0,\n",
              "         0, 0, 0, 0, 0, 0, 0, 0, 0, 0, 0, 0, 0, 0, 0, 0, 0, 0, 0, 0, 0, 0, 0, 0,\n",
              "         0, 0, 0, 0, 0, 0, 0, 0, 0, 0, 0, 0, 0, 0, 0, 0, 0, 0, 0, 0, 0, 0, 0, 0,\n",
              "         0, 0, 0, 0, 0, 0, 0, 0], device='cuda:0')}"
            ]
          },
          "metadata": {
            "tags": []
          },
          "execution_count": 10
        }
      ]
    },
    {
      "cell_type": "code",
      "metadata": {
        "id": "n71R4VYk-b5u"
      },
      "source": [
        "#2) TMDM_Dataloader\n",
        "\n",
        "from torch.utils.data import DataLoader\n",
        "\n",
        "loader_dataset = TMDM_Dataset(movie_data = movies, \n",
        "                              max_len = 80,\n",
        "                              tokenizer = BERT_Tokenizer)\n",
        "\n",
        "train_dataloader = DataLoader(loader_dataset, \n",
        "                             batch_size = 16, \n",
        "                             shuffle = True, \n",
        "                             drop_last = True)"
      ],
      "execution_count": 6,
      "outputs": []
    },
    {
      "cell_type": "code",
      "metadata": {
        "colab": {
          "base_uri": "https://localhost:8080/",
          "height": 116,
          "referenced_widgets": [
            "2cbac726514d4fd0abb8cb0c1082cffc",
            "bfc68b0551674c839982b9a06f852af1",
            "98b99979575c48a0817ec343f1bc97bd",
            "0dc12af329fb45ef879a9ddd9871aa54",
            "0b2b3b7cdd284a1ba14800363feb6718",
            "aa9eb1648ee3434b9f03e428629b90a0",
            "5321a56e1352460483db9d57a508c4fc",
            "290209026831455d8e33f8f5abad51af",
            "b389b230bc7543e69ed1fb854250b859",
            "6030917204c7486a8725ee8a7381f919",
            "547aa2cd1e8c44a59e1e90062269d843",
            "fe707f326bb84d589340dea3a7973087",
            "c6184bcac8d6441d958dac633452cdc0",
            "40c9d99197644968a46dab8d23abe643",
            "0f2c57c4d6a140c9bb2f754c0d06b6cc",
            "449cea2134564c4b94288b0519d1fd2c"
          ]
        },
        "id": "APeGE0X3vU6P",
        "outputId": "0f9fc3ff-6796-409a-806a-faaab5ccf3be"
      },
      "source": [
        "#2) TMDM_Model\n",
        " #2.1) using Bert_base model\n",
        " #2.2) get last_hidden_states\n",
        " #2.3) get apool & mpool\n",
        "\n",
        "import torch.nn as nn\n",
        "\n",
        "BERT_Model = BertModel.from_pretrained(\"bert-base-uncased\")\n",
        "\n",
        "class recommendation_model(nn.Module):\n",
        "  def __init__(self):\n",
        "    super(recommendation_model, self).__init__()\n",
        "    self.model = BERT_Model\n",
        "    self.hidden = 768 * 2\n",
        "    self.out = 1\n",
        "    self.linear = nn.Linear(self.hidden, self.out)\n",
        "    self.dropout = nn.Dropout(0.5)\n",
        "    self.activation = nn.Sigmoid()\n",
        "\n",
        "  def forward(self, input_ids, token_type_ids, attention_mask):\n",
        "    \n",
        "    #2.2) get last_hidden_states\n",
        "    last_hidden, _ = self.model(input_ids, token_type_ids, attention_mask)\n",
        "    \n",
        "    #2.3) get apool & mpool\n",
        "    apool = torch.mean(last_hidden, dim = 1)\n",
        "    mpool, _ = torch.max(last_hidden, dim = 1)\n",
        "    concat = torch.cat((apool, mpool), dim = 1)\n",
        "\n",
        "    logit = self.dropout(concat)\n",
        "    logit = self.linear(logit)\n",
        "    logit = self.activation(logit)\n",
        "\n",
        "    return logit\n",
        "\n",
        "  def get_cls(self, input_ids, token_type_ids, attention_mask):\n",
        "\n",
        "    #2.4) get cls from trained model\n",
        "    last_hidden, _ = self.model(input_ids, token_type_ids, attention_mask)\n",
        "    cls_data = last_hidden[:, 0, :]\n",
        "    return cls_data\n",
        "\n",
        "TMDM_Model = recommendation_model().to(device) "
      ],
      "execution_count": 7,
      "outputs": [
        {
          "output_type": "display_data",
          "data": {
            "application/vnd.jupyter.widget-view+json": {
              "model_id": "2cbac726514d4fd0abb8cb0c1082cffc",
              "version_minor": 0,
              "version_major": 2
            },
            "text/plain": [
              "HBox(children=(FloatProgress(value=0.0, description='Downloading', max=433.0, style=ProgressStyle(description_…"
            ]
          },
          "metadata": {
            "tags": []
          }
        },
        {
          "output_type": "stream",
          "text": [
            "\n"
          ],
          "name": "stdout"
        },
        {
          "output_type": "display_data",
          "data": {
            "application/vnd.jupyter.widget-view+json": {
              "model_id": "b389b230bc7543e69ed1fb854250b859",
              "version_minor": 0,
              "version_major": 2
            },
            "text/plain": [
              "HBox(children=(FloatProgress(value=0.0, description='Downloading', max=440473133.0, style=ProgressStyle(descri…"
            ]
          },
          "metadata": {
            "tags": []
          }
        },
        {
          "output_type": "stream",
          "text": [
            "\n"
          ],
          "name": "stdout"
        }
      ]
    },
    {
      "cell_type": "code",
      "metadata": {
        "colab": {
          "base_uri": "https://localhost:8080/"
        },
        "id": "qKGVSyE17L_4",
        "outputId": "ad6cf51e-2e38-4ebe-d002-01f628eadbc9"
      },
      "source": [
        "TMDM_Model(data['input_ids'].unsqueeze(0), \n",
        "           data['token_type_ids'].unsqueeze(0), \n",
        "           data['attention_mask'].unsqueeze(0))"
      ],
      "execution_count": 11,
      "outputs": [
        {
          "output_type": "execute_result",
          "data": {
            "text/plain": [
              "tensor([[0.4574]], device='cuda:0', grad_fn=<SigmoidBackward>)"
            ]
          },
          "metadata": {
            "tags": []
          },
          "execution_count": 11
        }
      ]
    },
    {
      "cell_type": "code",
      "metadata": {
        "id": "VaQmFNSF9Szi"
      },
      "source": [
        "#3) TMDM_Loss\n",
        " #3.1) using BCE_Loss\n",
        "\n",
        "def TMDM_Loss(logit, target):\n",
        "  loss_function = nn.BCELoss()\n",
        "  loss = loss_function(logit, target)\n",
        "\n",
        "  return loss"
      ],
      "execution_count": 9,
      "outputs": []
    },
    {
      "cell_type": "code",
      "metadata": {
        "id": "ZN5tjq_x-MIx"
      },
      "source": [
        "#4) TMDM_Train\n",
        "\n",
        "from tqdm import tqdm\n",
        "\n",
        "def TMDM_Train(dataloader, model, loss_function, optimizer):\n",
        "\n",
        "  model.train()\n",
        "  book = tqdm(dataloader, total = len(dataloader))\n",
        "  total_loss = 0.0\n",
        "\n",
        "  for bi, dictionary in enumerate(book):\n",
        "    input_ids = dictionary['input_ids']\n",
        "    token_type_ids = dictionary['token_type_ids']\n",
        "    attention_mask = dictionary['attention_mask']\n",
        "    input_target = dictionary['input_target']\n",
        "\n",
        "    input_ids = input_ids.to(device)\n",
        "    token_type_ids = token_type_ids.to(device)\n",
        "    attention_mask = attention_mask.to(device)\n",
        "\n",
        "    model.zero_grad()\n",
        "    logit = model(input_ids, token_type_ids, attention_mask)\n",
        "\n",
        "    loss = loss_function(logit, input_target)\n",
        "    loss.backward()\n",
        "    optimizer.step()\n",
        "    optimizer.zero_grad()\n",
        "    total_loss += loss\n",
        "\n",
        "  average_loss = total_loss / len(dataloader)\n",
        "  print(\" average_loss: {0:.2f}\".format(average_loss))"
      ],
      "execution_count": 12,
      "outputs": []
    },
    {
      "cell_type": "code",
      "metadata": {
        "id": "Iga4ToHRAWB-"
      },
      "source": [
        "#5) TMDM_Fit\n",
        "\n",
        "def TMDM_Fit(train_function, model, loss_function, epoches, learning_rate):\n",
        "  optimizer = torch.optim.AdamW(model.parameters(), lr = learning_rate)\n",
        "  for i in range(epoches):\n",
        "    print(f\"epoches:{i+1}\")\n",
        "    print('train')\n",
        "    train_function(train_dataloader, model, loss_function, optimizer)\n",
        "########################################################################\n",
        "########################################################################\n",
        "# 훈련된 bert 저장 하는 건데 저장할 위치 지아님에 맞게 바꿔주세요!\n",
        "  torch.save(model, '/content/gdrive/My Drive/' + f'TMDM_Model:{i + 1}')\n",
        "########################################################################\n",
        "########################################################################"
      ],
      "execution_count": 13,
      "outputs": []
    },
    {
      "cell_type": "code",
      "metadata": {
        "id": "eD91KTB6oGal"
      },
      "source": [
        "stop"
      ],
      "execution_count": null,
      "outputs": []
    },
    {
      "cell_type": "code",
      "metadata": {
        "id": "0E8Zi4J-A6lj",
        "colab": {
          "base_uri": "https://localhost:8080/"
        },
        "outputId": "1d1c632c-1d9b-4bbf-a3c7-0433f1fc7d67"
      },
      "source": [
        "TMDM_Fit(TMDM_Train, TMDM_Model, TMDM_Loss, 8, 2e-5)"
      ],
      "execution_count": 14,
      "outputs": [
        {
          "output_type": "stream",
          "text": [
            "\r  0%|          | 0/300 [00:00<?, ?it/s]"
          ],
          "name": "stderr"
        },
        {
          "output_type": "stream",
          "text": [
            "epoches:1\n",
            "train\n"
          ],
          "name": "stdout"
        },
        {
          "output_type": "stream",
          "text": [
            "100%|██████████| 300/300 [01:01<00:00,  4.89it/s]\n",
            "  0%|          | 0/300 [00:00<?, ?it/s]"
          ],
          "name": "stderr"
        },
        {
          "output_type": "stream",
          "text": [
            " average_loss: 0.59\n",
            "epoches:2\n",
            "train\n"
          ],
          "name": "stdout"
        },
        {
          "output_type": "stream",
          "text": [
            "100%|██████████| 300/300 [01:01<00:00,  4.89it/s]\n",
            "  0%|          | 0/300 [00:00<?, ?it/s]"
          ],
          "name": "stderr"
        },
        {
          "output_type": "stream",
          "text": [
            " average_loss: 0.50\n",
            "epoches:3\n",
            "train\n"
          ],
          "name": "stdout"
        },
        {
          "output_type": "stream",
          "text": [
            "100%|██████████| 300/300 [01:01<00:00,  4.89it/s]\n",
            "  0%|          | 0/300 [00:00<?, ?it/s]"
          ],
          "name": "stderr"
        },
        {
          "output_type": "stream",
          "text": [
            " average_loss: 0.36\n",
            "epoches:4\n",
            "train\n"
          ],
          "name": "stdout"
        },
        {
          "output_type": "stream",
          "text": [
            "100%|██████████| 300/300 [01:01<00:00,  4.89it/s]\n",
            "  0%|          | 0/300 [00:00<?, ?it/s]"
          ],
          "name": "stderr"
        },
        {
          "output_type": "stream",
          "text": [
            " average_loss: 0.17\n",
            "epoches:5\n",
            "train\n"
          ],
          "name": "stdout"
        },
        {
          "output_type": "stream",
          "text": [
            "100%|██████████| 300/300 [01:01<00:00,  4.87it/s]\n",
            "  0%|          | 0/300 [00:00<?, ?it/s]"
          ],
          "name": "stderr"
        },
        {
          "output_type": "stream",
          "text": [
            " average_loss: 0.08\n",
            "epoches:6\n",
            "train\n"
          ],
          "name": "stdout"
        },
        {
          "output_type": "stream",
          "text": [
            "100%|██████████| 300/300 [01:02<00:00,  4.82it/s]\n",
            "  0%|          | 0/300 [00:00<?, ?it/s]"
          ],
          "name": "stderr"
        },
        {
          "output_type": "stream",
          "text": [
            " average_loss: 0.05\n",
            "epoches:7\n",
            "train\n"
          ],
          "name": "stdout"
        },
        {
          "output_type": "stream",
          "text": [
            "100%|██████████| 300/300 [01:01<00:00,  4.87it/s]\n",
            "  0%|          | 0/300 [00:00<?, ?it/s]"
          ],
          "name": "stderr"
        },
        {
          "output_type": "stream",
          "text": [
            " average_loss: 0.03\n",
            "epoches:8\n",
            "train\n"
          ],
          "name": "stdout"
        },
        {
          "output_type": "stream",
          "text": [
            "100%|██████████| 300/300 [01:01<00:00,  4.90it/s]\n"
          ],
          "name": "stderr"
        },
        {
          "output_type": "stream",
          "text": [
            " average_loss: 0.02\n"
          ],
          "name": "stdout"
        }
      ]
    },
    {
      "cell_type": "code",
      "metadata": {
        "id": "0U-fYuq5enet"
      },
      "source": [
        "########################################################################\n",
        "########################################################################\n",
        "# 요놈은 훈련된 bert 불러오는 건데 그냥 처음부터 훈련하셔도 되고 \n",
        "# 제가 올린 훈련된 bert 모델 저장하시고 쓰셔도 됩니다!\n",
        "Trained_TMDM = torch.load('/content/gdrive/My Drive/' + f'TMDM_Model:{8}')\n",
        "########################################################################\n",
        "########################################################################"
      ],
      "execution_count": 15,
      "outputs": []
    },
    {
      "cell_type": "code",
      "metadata": {
        "id": "36odJEM35s5r"
      },
      "source": [
        "Trained_TMDM"
      ],
      "execution_count": null,
      "outputs": []
    },
    {
      "cell_type": "code",
      "metadata": {
        "colab": {
          "base_uri": "https://localhost:8080/"
        },
        "id": "1i47AnUXgcON",
        "outputId": "6a228c87-046f-4443-b72e-bbd0d86e3ee3"
      },
      "source": [
        "logits = Trained_TMDM(data['input_ids'].unsqueeze(0), \n",
        "                      data['token_type_ids'].unsqueeze(0), \n",
        "                      data['attention_mask'].unsqueeze(0))\n",
        "logits"
      ],
      "execution_count": 17,
      "outputs": [
        {
          "output_type": "execute_result",
          "data": {
            "text/plain": [
              "tensor([[0.0008]], device='cuda:0', grad_fn=<SigmoidBackward>)"
            ]
          },
          "metadata": {
            "tags": []
          },
          "execution_count": 17
        }
      ]
    },
    {
      "cell_type": "code",
      "metadata": {
        "id": "69Qk_bsU9Im6"
      },
      "source": [
        "#6) TMDM_embedding_matrix\n",
        " #6.1) get embedding_matrix that has information about movies\n",
        "\n",
        "def get_embedding_matrix(data, dataset, max_len, tokenizer, trained_model):\n",
        "  embedding_matrix = []\n",
        "  dataset = dataset(data, max_len, tokenizer)\n",
        "  position_data = torch.arange(max_len)\n",
        "  position_data = position_data.to(device)\n",
        "  for i in range(len(data)):\n",
        "    input = dataset[i]\n",
        "    word_embedding = trained_model.model.embeddings.word_embeddings(input['input_ids'])\n",
        "    token_type_embedding = trained_model.model.embeddings.token_type_embeddings(input['token_type_ids'])\n",
        "    position_embedding = trained_model.model.embeddings.position_embeddings(position_data)\n",
        "    embedding = word_embedding + token_type_embedding + position_embedding\n",
        "    embedding_matrix.append(embedding)\n",
        "  embedding_matrix = torch.stack(embedding_matrix, dim = 0)\n",
        "  embedding_matrix = embedding_matrix.to(device)\n",
        "\n",
        "  return embedding_matrix"
      ],
      "execution_count": 18,
      "outputs": []
    },
    {
      "cell_type": "code",
      "metadata": {
        "id": "B6T0Mxy9Uar1"
      },
      "source": [
        "#7) TMDM_Recommendation\n",
        " #7.1) get_recommendation_function\n",
        " #7.2) get_embedding_function\n",
        "  #7.2.1) prepare dataset & position_data\n",
        "  #7.2.2) get_embedding : word_embedding + token_type_embedding + position_embedding \n",
        "\n",
        "class get_titles():\n",
        "\n",
        "  #7.1) get_recommendation_function\n",
        "  def get_recommendations(self, \n",
        "                          data,\n",
        "                          dataset, \n",
        "                          trained_model, \n",
        "                          movie_set,\n",
        "                          max_len, \n",
        "                          tokenizer, \n",
        "                          how_to_do,\n",
        "                          movies_matrix,\n",
        "                          want_num):\n",
        "    \n",
        "    if how_to_do == 'bert_embedding_layer':\n",
        "      print('please type a movie you like, then we will propose ' + f'{want_num}' + ' movies similar')\n",
        "      movie = input('>>>  ')\n",
        "      index = movie_set.index(movie)\n",
        "      input_embedding = self.get_embedding(data, \n",
        "                                           dataset, \n",
        "                                           trained_model, \n",
        "                                           index, \n",
        "                                           max_len, \n",
        "                                           tokenizer)\n",
        "      input_matrix = torch.zeros([movies_matrix.shape[0], max_len, 768])\n",
        "      input_matrix[:, :, :] = input_embedding\n",
        "      input_matrix = input_matrix.to(device)\n",
        "\n",
        "      matrix_mul = torch.mul(input_matrix, movies_matrix)\n",
        "      matrix_mul = matrix_mul.sum(1)\n",
        "      matrix_mul = matrix_mul.sum(1)\n",
        "\n",
        "      wanted_indexes = []\n",
        "      similarity_lists = matrix_mul.tolist()\n",
        "      for i in range(1, (want_num + 1)):\n",
        "        sorted_lists = sorted(similarity_lists)\n",
        "        wanted_value = sorted_lists[-i]\n",
        "        wanted_index = similarity_lists.index(wanted_value)\n",
        "        wanted_indexes.append(wanted_index)\n",
        "\n",
        "      wanted_movies = []\n",
        "      for j in range(len(wanted_indexes)):\n",
        "        title = data['title'][wanted_indexes[j]]\n",
        "        wanted_movies.append(title)\n",
        "    return wanted_movies[1:]\n",
        "\n",
        "  #7.2) get_embedding_function\n",
        "  def get_embedding(self, data, dataset, trained_model, index, max_len, tokenizer):\n",
        "\n",
        "    # 7.2.1) prepare dataset & position_data\n",
        "    dataset = dataset(data, max_len, tokenizer)[index]\n",
        "    position_data = torch.arange(max_len)\n",
        "    position_data = position_data.to(device)\n",
        "  \n",
        "    # 7.2.2) get_embedding : word_embedding + token_type_embedding + position_embedding \n",
        "    word_embedding = trained_model.model.embeddings.word_embeddings(dataset['input_ids'])\n",
        "    token_type_embedding = trained_model.model.embeddings.token_type_embeddings(dataset['token_type_ids'])\n",
        "    position_embedding = trained_model.model.embeddings.position_embeddings(position_data)\n",
        "    embedding = word_embedding + position_embedding + token_type_embedding\n",
        "\n",
        "    return embedding\n",
        "\n",
        "TMDM_Recommendation = get_titles()"
      ],
      "execution_count": 19,
      "outputs": []
    },
    {
      "cell_type": "code",
      "metadata": {
        "id": "3DFY5ryEu9Eh"
      },
      "source": [
        "embedding_matrix = get_embedding_matrix(movies, TMDM_Dataset, 80, BERT_Tokenizer, Trained_TMDM)\n",
        "embedding_matrix = embedding_matrix[romance_movies]\n"
      ],
      "execution_count": 20,
      "outputs": []
    },
    {
      "cell_type": "code",
      "metadata": {
        "colab": {
          "base_uri": "https://localhost:8080/"
        },
        "id": "MfK-1RWgDL3H",
        "outputId": "7ff6998e-c1aa-44ce-8dbe-14d6ca7c9bb6"
      },
      "source": [
        "TMDM_Recommendation.get_recommendations(movies, TMDM_Dataset, Trained_TMDM, title, 80, BERT_Tokenizer, 'bert_embedding_layer', embedding_matrix, 30)"
      ],
      "execution_count": 21,
      "outputs": [
        {
          "output_type": "stream",
          "text": [
            "please type a movie you like, then we will propose 30 movies similar\n",
            ">>>  Avatar\n"
          ],
          "name": "stdout"
        },
        {
          "output_type": "execute_result",
          "data": {
            "text/plain": [
              "['Transformers: Revenge of the Fallen',\n",
              " 'The Matrix Revolutions',\n",
              " 'Dawn of the Planet of the Apes',\n",
              " 'The Edge',\n",
              " 'The Mummy Returns',\n",
              " \"Charlotte's Web\",\n",
              " 'Scott Pilgrim vs. the World',\n",
              " 'Ice Age: Dawn of the Dinosaurs',\n",
              " 'Con Air',\n",
              " 'How Do You Know',\n",
              " 'John Carter',\n",
              " 'Spirit: Stallion of the Cimarron',\n",
              " 'The Finest Hours',\n",
              " 'Night at the Museum: Battle of the Smithsonian',\n",
              " 'A Beautiful Mind',\n",
              " 'Fantasia 2000',\n",
              " 'Fantastic 4: Rise of the Silver Surfer',\n",
              " 'Ice Age: The Meltdown',\n",
              " 'Cats & Dogs 2 : The Revenge of Kitty Galore',\n",
              " 'Gangster Squad',\n",
              " 'Agora',\n",
              " 'Real Steel',\n",
              " 'Elektra',\n",
              " 'Les Misérables',\n",
              " 'Star Trek: Insurrection',\n",
              " 'American Gangster',\n",
              " 'The Bourne Legacy',\n",
              " 'The Peanuts Movie',\n",
              " 'Cloudy with a Chance of Meatballs']"
            ]
          },
          "metadata": {
            "tags": []
          },
          "execution_count": 21
        }
      ]
    }
  ]
}